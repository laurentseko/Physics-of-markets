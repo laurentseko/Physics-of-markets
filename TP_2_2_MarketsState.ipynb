{
  "nbformat": 4,
  "nbformat_minor": 0,
  "metadata": {
    "colab": {
      "name": "TP-2.2_MarketsState.ipynb",
      "provenance": [],
      "collapsed_sections": []
    },
    "kernelspec": {
      "display_name": "Python 3",
      "name": "python3"
    },
    "widgets": {
      "application/vnd.jupyter.widget-state+json": {
        "407e37ec9a0b426280433e79b696aefd": {
          "model_module": "@jupyter-widgets/controls",
          "model_name": "HBoxModel",
          "state": {
            "_view_name": "HBoxView",
            "_dom_classes": [],
            "_model_name": "HBoxModel",
            "_view_module": "@jupyter-widgets/controls",
            "_model_module_version": "1.5.0",
            "_view_count": null,
            "_view_module_version": "1.5.0",
            "box_style": "",
            "layout": "IPY_MODEL_279bcec32e6b439197aeddea74b7059b",
            "_model_module": "@jupyter-widgets/controls",
            "children": [
              "IPY_MODEL_e5958e9cb19c4101be897561ab842e76",
              "IPY_MODEL_013115deb341442a80a068e84828b5da"
            ]
          }
        },
        "279bcec32e6b439197aeddea74b7059b": {
          "model_module": "@jupyter-widgets/base",
          "model_name": "LayoutModel",
          "state": {
            "_view_name": "LayoutView",
            "grid_template_rows": null,
            "right": null,
            "justify_content": null,
            "_view_module": "@jupyter-widgets/base",
            "overflow": null,
            "_model_module_version": "1.2.0",
            "_view_count": null,
            "flex_flow": null,
            "width": null,
            "min_width": null,
            "border": null,
            "align_items": null,
            "bottom": null,
            "_model_module": "@jupyter-widgets/base",
            "top": null,
            "grid_column": null,
            "overflow_y": null,
            "overflow_x": null,
            "grid_auto_flow": null,
            "grid_area": null,
            "grid_template_columns": null,
            "flex": null,
            "_model_name": "LayoutModel",
            "justify_items": null,
            "grid_row": null,
            "max_height": null,
            "align_content": null,
            "visibility": null,
            "align_self": null,
            "height": null,
            "min_height": null,
            "padding": null,
            "grid_auto_rows": null,
            "grid_gap": null,
            "max_width": null,
            "order": null,
            "_view_module_version": "1.2.0",
            "grid_template_areas": null,
            "object_position": null,
            "object_fit": null,
            "grid_auto_columns": null,
            "margin": null,
            "display": null,
            "left": null
          }
        },
        "e5958e9cb19c4101be897561ab842e76": {
          "model_module": "@jupyter-widgets/controls",
          "model_name": "FloatProgressModel",
          "state": {
            "_view_name": "ProgressView",
            "style": "IPY_MODEL_1b55079473f24efb910c25bded2b24f3",
            "_dom_classes": [],
            "description": "100%",
            "_model_name": "FloatProgressModel",
            "bar_style": "success",
            "max": 1680,
            "_view_module": "@jupyter-widgets/controls",
            "_model_module_version": "1.5.0",
            "value": 1680,
            "_view_count": null,
            "_view_module_version": "1.5.0",
            "orientation": "horizontal",
            "min": 0,
            "description_tooltip": null,
            "_model_module": "@jupyter-widgets/controls",
            "layout": "IPY_MODEL_a89bca0888354813b12b10d127349a07"
          }
        },
        "013115deb341442a80a068e84828b5da": {
          "model_module": "@jupyter-widgets/controls",
          "model_name": "HTMLModel",
          "state": {
            "_view_name": "HTMLView",
            "style": "IPY_MODEL_ec35e8d45b434248868413d0b7f7bd99",
            "_dom_classes": [],
            "description": "",
            "_model_name": "HTMLModel",
            "placeholder": "​",
            "_view_module": "@jupyter-widgets/controls",
            "_model_module_version": "1.5.0",
            "value": " 1680/1680 [3:00:41&lt;00:00,  6.45s/it]",
            "_view_count": null,
            "_view_module_version": "1.5.0",
            "description_tooltip": null,
            "_model_module": "@jupyter-widgets/controls",
            "layout": "IPY_MODEL_980d30e06bba4b76b49bb5317fc7e8ce"
          }
        },
        "1b55079473f24efb910c25bded2b24f3": {
          "model_module": "@jupyter-widgets/controls",
          "model_name": "ProgressStyleModel",
          "state": {
            "_view_name": "StyleView",
            "_model_name": "ProgressStyleModel",
            "description_width": "initial",
            "_view_module": "@jupyter-widgets/base",
            "_model_module_version": "1.5.0",
            "_view_count": null,
            "_view_module_version": "1.2.0",
            "bar_color": null,
            "_model_module": "@jupyter-widgets/controls"
          }
        },
        "a89bca0888354813b12b10d127349a07": {
          "model_module": "@jupyter-widgets/base",
          "model_name": "LayoutModel",
          "state": {
            "_view_name": "LayoutView",
            "grid_template_rows": null,
            "right": null,
            "justify_content": null,
            "_view_module": "@jupyter-widgets/base",
            "overflow": null,
            "_model_module_version": "1.2.0",
            "_view_count": null,
            "flex_flow": null,
            "width": null,
            "min_width": null,
            "border": null,
            "align_items": null,
            "bottom": null,
            "_model_module": "@jupyter-widgets/base",
            "top": null,
            "grid_column": null,
            "overflow_y": null,
            "overflow_x": null,
            "grid_auto_flow": null,
            "grid_area": null,
            "grid_template_columns": null,
            "flex": null,
            "_model_name": "LayoutModel",
            "justify_items": null,
            "grid_row": null,
            "max_height": null,
            "align_content": null,
            "visibility": null,
            "align_self": null,
            "height": null,
            "min_height": null,
            "padding": null,
            "grid_auto_rows": null,
            "grid_gap": null,
            "max_width": null,
            "order": null,
            "_view_module_version": "1.2.0",
            "grid_template_areas": null,
            "object_position": null,
            "object_fit": null,
            "grid_auto_columns": null,
            "margin": null,
            "display": null,
            "left": null
          }
        },
        "ec35e8d45b434248868413d0b7f7bd99": {
          "model_module": "@jupyter-widgets/controls",
          "model_name": "DescriptionStyleModel",
          "state": {
            "_view_name": "StyleView",
            "_model_name": "DescriptionStyleModel",
            "description_width": "",
            "_view_module": "@jupyter-widgets/base",
            "_model_module_version": "1.5.0",
            "_view_count": null,
            "_view_module_version": "1.2.0",
            "_model_module": "@jupyter-widgets/controls"
          }
        },
        "980d30e06bba4b76b49bb5317fc7e8ce": {
          "model_module": "@jupyter-widgets/base",
          "model_name": "LayoutModel",
          "state": {
            "_view_name": "LayoutView",
            "grid_template_rows": null,
            "right": null,
            "justify_content": null,
            "_view_module": "@jupyter-widgets/base",
            "overflow": null,
            "_model_module_version": "1.2.0",
            "_view_count": null,
            "flex_flow": null,
            "width": null,
            "min_width": null,
            "border": null,
            "align_items": null,
            "bottom": null,
            "_model_module": "@jupyter-widgets/base",
            "top": null,
            "grid_column": null,
            "overflow_y": null,
            "overflow_x": null,
            "grid_auto_flow": null,
            "grid_area": null,
            "grid_template_columns": null,
            "flex": null,
            "_model_name": "LayoutModel",
            "justify_items": null,
            "grid_row": null,
            "max_height": null,
            "align_content": null,
            "visibility": null,
            "align_self": null,
            "height": null,
            "min_height": null,
            "padding": null,
            "grid_auto_rows": null,
            "grid_gap": null,
            "max_width": null,
            "order": null,
            "_view_module_version": "1.2.0",
            "grid_template_areas": null,
            "object_position": null,
            "object_fit": null,
            "grid_auto_columns": null,
            "margin": null,
            "display": null,
            "left": null
          }
        },
        "769a145c59c34501a7d76dcb243d97ba": {
          "model_module": "@jupyter-widgets/controls",
          "model_name": "HBoxModel",
          "state": {
            "_view_name": "HBoxView",
            "_dom_classes": [],
            "_model_name": "HBoxModel",
            "_view_module": "@jupyter-widgets/controls",
            "_model_module_version": "1.5.0",
            "_view_count": null,
            "_view_module_version": "1.5.0",
            "box_style": "",
            "layout": "IPY_MODEL_a5a96196328645bca4d626da73434417",
            "_model_module": "@jupyter-widgets/controls",
            "children": [
              "IPY_MODEL_62474b8c41dc4c30917cbd358b01fc9c",
              "IPY_MODEL_ac15e74811164a529c2f5d034eed538a"
            ]
          }
        },
        "a5a96196328645bca4d626da73434417": {
          "model_module": "@jupyter-widgets/base",
          "model_name": "LayoutModel",
          "state": {
            "_view_name": "LayoutView",
            "grid_template_rows": null,
            "right": null,
            "justify_content": null,
            "_view_module": "@jupyter-widgets/base",
            "overflow": null,
            "_model_module_version": "1.2.0",
            "_view_count": null,
            "flex_flow": null,
            "width": null,
            "min_width": null,
            "border": null,
            "align_items": null,
            "bottom": null,
            "_model_module": "@jupyter-widgets/base",
            "top": null,
            "grid_column": null,
            "overflow_y": null,
            "overflow_x": null,
            "grid_auto_flow": null,
            "grid_area": null,
            "grid_template_columns": null,
            "flex": null,
            "_model_name": "LayoutModel",
            "justify_items": null,
            "grid_row": null,
            "max_height": null,
            "align_content": null,
            "visibility": null,
            "align_self": null,
            "height": null,
            "min_height": null,
            "padding": null,
            "grid_auto_rows": null,
            "grid_gap": null,
            "max_width": null,
            "order": null,
            "_view_module_version": "1.2.0",
            "grid_template_areas": null,
            "object_position": null,
            "object_fit": null,
            "grid_auto_columns": null,
            "margin": null,
            "display": null,
            "left": null
          }
        },
        "62474b8c41dc4c30917cbd358b01fc9c": {
          "model_module": "@jupyter-widgets/controls",
          "model_name": "FloatProgressModel",
          "state": {
            "_view_name": "ProgressView",
            "style": "IPY_MODEL_291e9018d3b7455e89b272605401a577",
            "_dom_classes": [],
            "description": "100%",
            "_model_name": "FloatProgressModel",
            "bar_style": "success",
            "max": 100,
            "_view_module": "@jupyter-widgets/controls",
            "_model_module_version": "1.5.0",
            "value": 100,
            "_view_count": null,
            "_view_module_version": "1.5.0",
            "orientation": "horizontal",
            "min": 0,
            "description_tooltip": null,
            "_model_module": "@jupyter-widgets/controls",
            "layout": "IPY_MODEL_3efd612fcee54327a184ff3d6ecf365f"
          }
        },
        "ac15e74811164a529c2f5d034eed538a": {
          "model_module": "@jupyter-widgets/controls",
          "model_name": "HTMLModel",
          "state": {
            "_view_name": "HTMLView",
            "style": "IPY_MODEL_1ebece82dc6e4c89a1d869ef6a99dad2",
            "_dom_classes": [],
            "description": "",
            "_model_name": "HTMLModel",
            "placeholder": "​",
            "_view_module": "@jupyter-widgets/controls",
            "_model_module_version": "1.5.0",
            "value": " 100/100 [05:43&lt;00:00,  3.43s/it]",
            "_view_count": null,
            "_view_module_version": "1.5.0",
            "description_tooltip": null,
            "_model_module": "@jupyter-widgets/controls",
            "layout": "IPY_MODEL_bc3972d3a1e846d0ac130f6a72b8e5be"
          }
        },
        "291e9018d3b7455e89b272605401a577": {
          "model_module": "@jupyter-widgets/controls",
          "model_name": "ProgressStyleModel",
          "state": {
            "_view_name": "StyleView",
            "_model_name": "ProgressStyleModel",
            "description_width": "initial",
            "_view_module": "@jupyter-widgets/base",
            "_model_module_version": "1.5.0",
            "_view_count": null,
            "_view_module_version": "1.2.0",
            "bar_color": null,
            "_model_module": "@jupyter-widgets/controls"
          }
        },
        "3efd612fcee54327a184ff3d6ecf365f": {
          "model_module": "@jupyter-widgets/base",
          "model_name": "LayoutModel",
          "state": {
            "_view_name": "LayoutView",
            "grid_template_rows": null,
            "right": null,
            "justify_content": null,
            "_view_module": "@jupyter-widgets/base",
            "overflow": null,
            "_model_module_version": "1.2.0",
            "_view_count": null,
            "flex_flow": null,
            "width": null,
            "min_width": null,
            "border": null,
            "align_items": null,
            "bottom": null,
            "_model_module": "@jupyter-widgets/base",
            "top": null,
            "grid_column": null,
            "overflow_y": null,
            "overflow_x": null,
            "grid_auto_flow": null,
            "grid_area": null,
            "grid_template_columns": null,
            "flex": null,
            "_model_name": "LayoutModel",
            "justify_items": null,
            "grid_row": null,
            "max_height": null,
            "align_content": null,
            "visibility": null,
            "align_self": null,
            "height": null,
            "min_height": null,
            "padding": null,
            "grid_auto_rows": null,
            "grid_gap": null,
            "max_width": null,
            "order": null,
            "_view_module_version": "1.2.0",
            "grid_template_areas": null,
            "object_position": null,
            "object_fit": null,
            "grid_auto_columns": null,
            "margin": null,
            "display": null,
            "left": null
          }
        },
        "1ebece82dc6e4c89a1d869ef6a99dad2": {
          "model_module": "@jupyter-widgets/controls",
          "model_name": "DescriptionStyleModel",
          "state": {
            "_view_name": "StyleView",
            "_model_name": "DescriptionStyleModel",
            "description_width": "",
            "_view_module": "@jupyter-widgets/base",
            "_model_module_version": "1.5.0",
            "_view_count": null,
            "_view_module_version": "1.2.0",
            "_model_module": "@jupyter-widgets/controls"
          }
        },
        "bc3972d3a1e846d0ac130f6a72b8e5be": {
          "model_module": "@jupyter-widgets/base",
          "model_name": "LayoutModel",
          "state": {
            "_view_name": "LayoutView",
            "grid_template_rows": null,
            "right": null,
            "justify_content": null,
            "_view_module": "@jupyter-widgets/base",
            "overflow": null,
            "_model_module_version": "1.2.0",
            "_view_count": null,
            "flex_flow": null,
            "width": null,
            "min_width": null,
            "border": null,
            "align_items": null,
            "bottom": null,
            "_model_module": "@jupyter-widgets/base",
            "top": null,
            "grid_column": null,
            "overflow_y": null,
            "overflow_x": null,
            "grid_auto_flow": null,
            "grid_area": null,
            "grid_template_columns": null,
            "flex": null,
            "_model_name": "LayoutModel",
            "justify_items": null,
            "grid_row": null,
            "max_height": null,
            "align_content": null,
            "visibility": null,
            "align_self": null,
            "height": null,
            "min_height": null,
            "padding": null,
            "grid_auto_rows": null,
            "grid_gap": null,
            "max_width": null,
            "order": null,
            "_view_module_version": "1.2.0",
            "grid_template_areas": null,
            "object_position": null,
            "object_fit": null,
            "grid_auto_columns": null,
            "margin": null,
            "display": null,
            "left": null
          }
        },
        "f4337f0575494772a3489b058e386b23": {
          "model_module": "@jupyter-widgets/controls",
          "model_name": "HBoxModel",
          "state": {
            "_view_name": "HBoxView",
            "_dom_classes": [],
            "_model_name": "HBoxModel",
            "_view_module": "@jupyter-widgets/controls",
            "_model_module_version": "1.5.0",
            "_view_count": null,
            "_view_module_version": "1.5.0",
            "box_style": "",
            "layout": "IPY_MODEL_9e5a2b90d9d143fb82d5ce1cd4c4a6b3",
            "_model_module": "@jupyter-widgets/controls",
            "children": [
              "IPY_MODEL_c976f97edce545d7b362679afb184ad2",
              "IPY_MODEL_79806612bc2e4207bb0c76a17544418b"
            ]
          }
        },
        "9e5a2b90d9d143fb82d5ce1cd4c4a6b3": {
          "model_module": "@jupyter-widgets/base",
          "model_name": "LayoutModel",
          "state": {
            "_view_name": "LayoutView",
            "grid_template_rows": null,
            "right": null,
            "justify_content": null,
            "_view_module": "@jupyter-widgets/base",
            "overflow": null,
            "_model_module_version": "1.2.0",
            "_view_count": null,
            "flex_flow": null,
            "width": null,
            "min_width": null,
            "border": null,
            "align_items": null,
            "bottom": null,
            "_model_module": "@jupyter-widgets/base",
            "top": null,
            "grid_column": null,
            "overflow_y": null,
            "overflow_x": null,
            "grid_auto_flow": null,
            "grid_area": null,
            "grid_template_columns": null,
            "flex": null,
            "_model_name": "LayoutModel",
            "justify_items": null,
            "grid_row": null,
            "max_height": null,
            "align_content": null,
            "visibility": null,
            "align_self": null,
            "height": null,
            "min_height": null,
            "padding": null,
            "grid_auto_rows": null,
            "grid_gap": null,
            "max_width": null,
            "order": null,
            "_view_module_version": "1.2.0",
            "grid_template_areas": null,
            "object_position": null,
            "object_fit": null,
            "grid_auto_columns": null,
            "margin": null,
            "display": null,
            "left": null
          }
        },
        "c976f97edce545d7b362679afb184ad2": {
          "model_module": "@jupyter-widgets/controls",
          "model_name": "FloatProgressModel",
          "state": {
            "_view_name": "ProgressView",
            "style": "IPY_MODEL_27b790cd6e7d43119e19dc01ddbd5808",
            "_dom_classes": [],
            "description": "100%",
            "_model_name": "FloatProgressModel",
            "bar_style": "success",
            "max": 100,
            "_view_module": "@jupyter-widgets/controls",
            "_model_module_version": "1.5.0",
            "value": 100,
            "_view_count": null,
            "_view_module_version": "1.5.0",
            "orientation": "horizontal",
            "min": 0,
            "description_tooltip": null,
            "_model_module": "@jupyter-widgets/controls",
            "layout": "IPY_MODEL_e4c4eccd0954476e8a2b0ec9599e7e85"
          }
        },
        "79806612bc2e4207bb0c76a17544418b": {
          "model_module": "@jupyter-widgets/controls",
          "model_name": "HTMLModel",
          "state": {
            "_view_name": "HTMLView",
            "style": "IPY_MODEL_d46d2f2d48b94d30bde3fd1d11c21ebb",
            "_dom_classes": [],
            "description": "",
            "_model_name": "HTMLModel",
            "placeholder": "​",
            "_view_module": "@jupyter-widgets/controls",
            "_model_module_version": "1.5.0",
            "value": " 100/100 [04:41&lt;00:00,  2.81s/it]",
            "_view_count": null,
            "_view_module_version": "1.5.0",
            "description_tooltip": null,
            "_model_module": "@jupyter-widgets/controls",
            "layout": "IPY_MODEL_01195cab2a4b4807818ab46348278347"
          }
        },
        "27b790cd6e7d43119e19dc01ddbd5808": {
          "model_module": "@jupyter-widgets/controls",
          "model_name": "ProgressStyleModel",
          "state": {
            "_view_name": "StyleView",
            "_model_name": "ProgressStyleModel",
            "description_width": "initial",
            "_view_module": "@jupyter-widgets/base",
            "_model_module_version": "1.5.0",
            "_view_count": null,
            "_view_module_version": "1.2.0",
            "bar_color": null,
            "_model_module": "@jupyter-widgets/controls"
          }
        },
        "e4c4eccd0954476e8a2b0ec9599e7e85": {
          "model_module": "@jupyter-widgets/base",
          "model_name": "LayoutModel",
          "state": {
            "_view_name": "LayoutView",
            "grid_template_rows": null,
            "right": null,
            "justify_content": null,
            "_view_module": "@jupyter-widgets/base",
            "overflow": null,
            "_model_module_version": "1.2.0",
            "_view_count": null,
            "flex_flow": null,
            "width": null,
            "min_width": null,
            "border": null,
            "align_items": null,
            "bottom": null,
            "_model_module": "@jupyter-widgets/base",
            "top": null,
            "grid_column": null,
            "overflow_y": null,
            "overflow_x": null,
            "grid_auto_flow": null,
            "grid_area": null,
            "grid_template_columns": null,
            "flex": null,
            "_model_name": "LayoutModel",
            "justify_items": null,
            "grid_row": null,
            "max_height": null,
            "align_content": null,
            "visibility": null,
            "align_self": null,
            "height": null,
            "min_height": null,
            "padding": null,
            "grid_auto_rows": null,
            "grid_gap": null,
            "max_width": null,
            "order": null,
            "_view_module_version": "1.2.0",
            "grid_template_areas": null,
            "object_position": null,
            "object_fit": null,
            "grid_auto_columns": null,
            "margin": null,
            "display": null,
            "left": null
          }
        },
        "d46d2f2d48b94d30bde3fd1d11c21ebb": {
          "model_module": "@jupyter-widgets/controls",
          "model_name": "DescriptionStyleModel",
          "state": {
            "_view_name": "StyleView",
            "_model_name": "DescriptionStyleModel",
            "description_width": "",
            "_view_module": "@jupyter-widgets/base",
            "_model_module_version": "1.5.0",
            "_view_count": null,
            "_view_module_version": "1.2.0",
            "_model_module": "@jupyter-widgets/controls"
          }
        },
        "01195cab2a4b4807818ab46348278347": {
          "model_module": "@jupyter-widgets/base",
          "model_name": "LayoutModel",
          "state": {
            "_view_name": "LayoutView",
            "grid_template_rows": null,
            "right": null,
            "justify_content": null,
            "_view_module": "@jupyter-widgets/base",
            "overflow": null,
            "_model_module_version": "1.2.0",
            "_view_count": null,
            "flex_flow": null,
            "width": null,
            "min_width": null,
            "border": null,
            "align_items": null,
            "bottom": null,
            "_model_module": "@jupyter-widgets/base",
            "top": null,
            "grid_column": null,
            "overflow_y": null,
            "overflow_x": null,
            "grid_auto_flow": null,
            "grid_area": null,
            "grid_template_columns": null,
            "flex": null,
            "_model_name": "LayoutModel",
            "justify_items": null,
            "grid_row": null,
            "max_height": null,
            "align_content": null,
            "visibility": null,
            "align_self": null,
            "height": null,
            "min_height": null,
            "padding": null,
            "grid_auto_rows": null,
            "grid_gap": null,
            "max_width": null,
            "order": null,
            "_view_module_version": "1.2.0",
            "grid_template_areas": null,
            "object_position": null,
            "object_fit": null,
            "grid_auto_columns": null,
            "margin": null,
            "display": null,
            "left": null
          }
        }
      }
    }
  },
  "cells": [
    {
      "cell_type": "markdown",
      "metadata": {
        "id": "cvJPxtmKVoFU"
      },
      "source": [
        "# <center> TP 2.2 - Etats de marché\n",
        "---\n",
        "---\n",
        "> Buts du TP : les buts de ce TP sont d'utiliser l'algorithme de Louvain pour la détermination d'états de marché, puis de au choix :\n",
        "  - réaliser une stratégie basée sur les états de marchés, \n",
        "  - utiliser le ML/DL pour prédire la direction d'un titre financier"
      ]
    },
    {
      "cell_type": "markdown",
      "metadata": {
        "id": "3RYuyyZUQkxN"
      },
      "source": [
        "---\n",
        "# 1 - Détermination d'états de marché"
      ]
    },
    {
      "cell_type": "markdown",
      "metadata": {
        "id": "I_6u41VfQ_x3"
      },
      "source": [
        "## 1) Les données\n",
        "\n",
        "- Les données représente $981$ différentes actions US pour $1929$ pas de temps\n",
        "- On choit d'enlever les outliers (rendement supérierurs ou inférieurs à 1)\n",
        "- On décide de remplacer les np.inf et d'interpoler afin de ne supprimer aucunes lignes et de garder l'echelle de jours à la suite"
      ]
    },
    {
      "cell_type": "code",
      "metadata": {
        "id": "jvjnl8WbSyLX"
      },
      "source": [
        "!pip install python-louvain\n",
        "from numpy import linalg as LA\n",
        "import numpy as np\n",
        "import pandas as pd\n",
        "import matplotlib.pyplot as plt\n",
        "import networkx as nx\n",
        "import community\n",
        "from tqdm.notebook import tqdm\n",
        "plt.style.use(\"ggplot\")"
      ],
      "execution_count": null,
      "outputs": []
    },
    {
      "cell_type": "code",
      "metadata": {
        "colab": {
          "base_uri": "https://localhost:8080/"
        },
        "id": "YZQz4mqOShUG",
        "outputId": "33eddaf9-b08f-4a8d-867d-41ab42f068c0"
      },
      "source": [
        "# Import de nos drive pour les fichiers\n",
        "from google.colab import drive\n",
        "drive.mount('/content/drive')"
      ],
      "execution_count": null,
      "outputs": [
        {
          "output_type": "stream",
          "text": [
            "Mounted at /content/drive\n"
          ],
          "name": "stdout"
        }
      ]
    },
    {
      "cell_type": "code",
      "metadata": {
        "colab": {
          "base_uri": "https://localhost:8080/",
          "height": 253
        },
        "id": "uLFE0T85RB1v",
        "outputId": "5e180f62-45a9-4af6-af04-5efa56640087"
      },
      "source": [
        "data = pd.read_csv(\"/content/drive/MyDrive/Colab Notebooks Centrale/Physique des marchés/TP 2.2 - Markets State/us_equities.csv.gz\").iloc[1:,:] # Pour supprimer la premiere ligne qui est que en NaN\n",
        "data.drop([\"Unnamed: 0\"],axis=1, inplace=True)\n",
        "data.head()"
      ],
      "execution_count": null,
      "outputs": [
        {
          "output_type": "execute_result",
          "data": {
            "text/html": [
              "<div>\n",
              "<style scoped>\n",
              "    .dataframe tbody tr th:only-of-type {\n",
              "        vertical-align: middle;\n",
              "    }\n",
              "\n",
              "    .dataframe tbody tr th {\n",
              "        vertical-align: top;\n",
              "    }\n",
              "\n",
              "    .dataframe thead th {\n",
              "        text-align: right;\n",
              "    }\n",
              "</style>\n",
              "<table border=\"1\" class=\"dataframe\">\n",
              "  <thead>\n",
              "    <tr style=\"text-align: right;\">\n",
              "      <th></th>\n",
              "      <th>^GSPC</th>\n",
              "      <th>GE</th>\n",
              "      <th>IBM</th>\n",
              "      <th>DIS</th>\n",
              "      <th>BA</th>\n",
              "      <th>CAT</th>\n",
              "      <th>AA</th>\n",
              "      <th>HPQ</th>\n",
              "      <th>DD</th>\n",
              "      <th>KO</th>\n",
              "      <th>XOM</th>\n",
              "      <th>PG</th>\n",
              "      <th>JNJ</th>\n",
              "      <th>CVX</th>\n",
              "      <th>MCD</th>\n",
              "      <th>MRK</th>\n",
              "      <th>UTX</th>\n",
              "      <th>MMM</th>\n",
              "      <th>MO</th>\n",
              "      <th>HON</th>\n",
              "      <th>ED</th>\n",
              "      <th>GT</th>\n",
              "      <th>AEP</th>\n",
              "      <th>FL</th>\n",
              "      <th>MRO</th>\n",
              "      <th>DTE</th>\n",
              "      <th>IP</th>\n",
              "      <th>CNP</th>\n",
              "      <th>NAV</th>\n",
              "      <th>WMT</th>\n",
              "      <th>BMY</th>\n",
              "      <th>BP</th>\n",
              "      <th>LMT</th>\n",
              "      <th>C</th>\n",
              "      <th>KR</th>\n",
              "      <th>AET</th>\n",
              "      <th>XRX</th>\n",
              "      <th>F</th>\n",
              "      <th>DOW</th>\n",
              "      <th>PEP</th>\n",
              "      <th>...</th>\n",
              "      <th>SKM</th>\n",
              "      <th>CCJ</th>\n",
              "      <th>FFG</th>\n",
              "      <th>GES</th>\n",
              "      <th>WG</th>\n",
              "      <th>TD</th>\n",
              "      <th>FMS</th>\n",
              "      <th>ANF</th>\n",
              "      <th>HMY</th>\n",
              "      <th>SKS</th>\n",
              "      <th>OCN</th>\n",
              "      <th>CHH</th>\n",
              "      <th>NCI</th>\n",
              "      <th>PAG</th>\n",
              "      <th>NOV</th>\n",
              "      <th>NVS</th>\n",
              "      <th>TGI</th>\n",
              "      <th>IM</th>\n",
              "      <th>PDS</th>\n",
              "      <th>ING</th>\n",
              "      <th>NUS</th>\n",
              "      <th>CNI</th>\n",
              "      <th>PSS</th>\n",
              "      <th>DB</th>\n",
              "      <th>CIG</th>\n",
              "      <th>NCR</th>\n",
              "      <th>CVD</th>\n",
              "      <th>MWW</th>\n",
              "      <th>TIE</th>\n",
              "      <th>LVB</th>\n",
              "      <th>CNH</th>\n",
              "      <th>MIL</th>\n",
              "      <th>ABV</th>\n",
              "      <th>STL</th>\n",
              "      <th>SOV</th>\n",
              "      <th>SGR</th>\n",
              "      <th>LIZ</th>\n",
              "      <th>ABK</th>\n",
              "      <th>CAE</th>\n",
              "      <th>TKS</th>\n",
              "    </tr>\n",
              "  </thead>\n",
              "  <tbody>\n",
              "    <tr>\n",
              "      <th>1</th>\n",
              "      <td>-0.002163</td>\n",
              "      <td>-0.001119</td>\n",
              "      <td>-0.003239</td>\n",
              "      <td>0.004155</td>\n",
              "      <td>-0.012491</td>\n",
              "      <td>0.021665</td>\n",
              "      <td>0.000000</td>\n",
              "      <td>-0.004006</td>\n",
              "      <td>-0.008623</td>\n",
              "      <td>-0.004700</td>\n",
              "      <td>-0.012511</td>\n",
              "      <td>-0.002522</td>\n",
              "      <td>-0.002740</td>\n",
              "      <td>0.000971</td>\n",
              "      <td>-0.011489</td>\n",
              "      <td>-0.014401</td>\n",
              "      <td>-0.007463</td>\n",
              "      <td>0.002955</td>\n",
              "      <td>0.014583</td>\n",
              "      <td>-0.006835</td>\n",
              "      <td>-0.002684</td>\n",
              "      <td>-0.004240</td>\n",
              "      <td>0.000823</td>\n",
              "      <td>-0.025411</td>\n",
              "      <td>0.016543</td>\n",
              "      <td>0.003889</td>\n",
              "      <td>0.000799</td>\n",
              "      <td>0.014423</td>\n",
              "      <td>0.025796</td>\n",
              "      <td>-0.004024</td>\n",
              "      <td>-0.006486</td>\n",
              "      <td>-0.007186</td>\n",
              "      <td>-0.001408</td>\n",
              "      <td>0.001904</td>\n",
              "      <td>0.000000</td>\n",
              "      <td>-0.011905</td>\n",
              "      <td>0.039149</td>\n",
              "      <td>0.002212</td>\n",
              "      <td>-0.001503</td>\n",
              "      <td>-0.002950</td>\n",
              "      <td>...</td>\n",
              "      <td>0.013634</td>\n",
              "      <td>-0.013305</td>\n",
              "      <td>-0.009620</td>\n",
              "      <td>-0.012327</td>\n",
              "      <td>-0.018275</td>\n",
              "      <td>0.000650</td>\n",
              "      <td>0.001693</td>\n",
              "      <td>-0.033023</td>\n",
              "      <td>-0.001427</td>\n",
              "      <td>0.010018</td>\n",
              "      <td>-0.016787</td>\n",
              "      <td>0.005736</td>\n",
              "      <td>-0.309045</td>\n",
              "      <td>0.007267</td>\n",
              "      <td>-0.000474</td>\n",
              "      <td>-0.002189</td>\n",
              "      <td>0.003984</td>\n",
              "      <td>-0.011734</td>\n",
              "      <td>-0.024762</td>\n",
              "      <td>-0.002104</td>\n",
              "      <td>0.002107</td>\n",
              "      <td>-0.010753</td>\n",
              "      <td>0.002801</td>\n",
              "      <td>-0.009474</td>\n",
              "      <td>0.006757</td>\n",
              "      <td>-0.001144</td>\n",
              "      <td>0.000670</td>\n",
              "      <td>-0.007741</td>\n",
              "      <td>-0.015534</td>\n",
              "      <td>-0.010785</td>\n",
              "      <td>0.000000</td>\n",
              "      <td>-0.017828</td>\n",
              "      <td>0.002717</td>\n",
              "      <td>-0.008307</td>\n",
              "      <td>0.000000</td>\n",
              "      <td>0.0</td>\n",
              "      <td>0.009009</td>\n",
              "      <td>0.00000</td>\n",
              "      <td>0.009346</td>\n",
              "      <td>0.077626</td>\n",
              "    </tr>\n",
              "    <tr>\n",
              "      <th>2</th>\n",
              "      <td>0.005240</td>\n",
              "      <td>-0.000374</td>\n",
              "      <td>0.001702</td>\n",
              "      <td>0.005379</td>\n",
              "      <td>0.010006</td>\n",
              "      <td>0.008942</td>\n",
              "      <td>-0.011192</td>\n",
              "      <td>0.015083</td>\n",
              "      <td>0.000900</td>\n",
              "      <td>-0.005313</td>\n",
              "      <td>0.030277</td>\n",
              "      <td>-0.002068</td>\n",
              "      <td>0.005495</td>\n",
              "      <td>0.021581</td>\n",
              "      <td>-0.008494</td>\n",
              "      <td>-0.008676</td>\n",
              "      <td>-0.002734</td>\n",
              "      <td>-0.005074</td>\n",
              "      <td>0.007187</td>\n",
              "      <td>0.000344</td>\n",
              "      <td>-0.004373</td>\n",
              "      <td>0.007097</td>\n",
              "      <td>0.003289</td>\n",
              "      <td>-0.001022</td>\n",
              "      <td>0.026037</td>\n",
              "      <td>-0.000968</td>\n",
              "      <td>-0.015176</td>\n",
              "      <td>-0.001185</td>\n",
              "      <td>0.026389</td>\n",
              "      <td>0.005303</td>\n",
              "      <td>0.000593</td>\n",
              "      <td>0.018818</td>\n",
              "      <td>0.008058</td>\n",
              "      <td>-0.001481</td>\n",
              "      <td>0.004082</td>\n",
              "      <td>0.029335</td>\n",
              "      <td>-0.005733</td>\n",
              "      <td>-0.006623</td>\n",
              "      <td>-0.007227</td>\n",
              "      <td>0.000455</td>\n",
              "      <td>...</td>\n",
              "      <td>-0.008795</td>\n",
              "      <td>0.003236</td>\n",
              "      <td>0.011563</td>\n",
              "      <td>-0.010920</td>\n",
              "      <td>0.011169</td>\n",
              "      <td>-0.005198</td>\n",
              "      <td>0.000845</td>\n",
              "      <td>0.019615</td>\n",
              "      <td>0.002857</td>\n",
              "      <td>0.012624</td>\n",
              "      <td>0.000000</td>\n",
              "      <td>0.000475</td>\n",
              "      <td>0.056970</td>\n",
              "      <td>0.012266</td>\n",
              "      <td>0.030332</td>\n",
              "      <td>0.001097</td>\n",
              "      <td>0.002834</td>\n",
              "      <td>-0.009235</td>\n",
              "      <td>0.029297</td>\n",
              "      <td>0.006326</td>\n",
              "      <td>0.009464</td>\n",
              "      <td>-0.020186</td>\n",
              "      <td>0.010056</td>\n",
              "      <td>0.012255</td>\n",
              "      <td>-0.033557</td>\n",
              "      <td>-0.004007</td>\n",
              "      <td>0.004461</td>\n",
              "      <td>0.005319</td>\n",
              "      <td>0.031558</td>\n",
              "      <td>0.003759</td>\n",
              "      <td>0.002076</td>\n",
              "      <td>-0.011551</td>\n",
              "      <td>0.029810</td>\n",
              "      <td>0.015707</td>\n",
              "      <td>0.000000</td>\n",
              "      <td>0.0</td>\n",
              "      <td>0.101190</td>\n",
              "      <td>0.00000</td>\n",
              "      <td>-0.002315</td>\n",
              "      <td>-0.050847</td>\n",
              "    </tr>\n",
              "    <tr>\n",
              "      <th>3</th>\n",
              "      <td>-0.002348</td>\n",
              "      <td>-0.004111</td>\n",
              "      <td>-0.002163</td>\n",
              "      <td>-0.001235</td>\n",
              "      <td>-0.007103</td>\n",
              "      <td>-0.004305</td>\n",
              "      <td>0.004789</td>\n",
              "      <td>0.032194</td>\n",
              "      <td>0.019479</td>\n",
              "      <td>0.006528</td>\n",
              "      <td>-0.001042</td>\n",
              "      <td>-0.008061</td>\n",
              "      <td>-0.003708</td>\n",
              "      <td>0.004985</td>\n",
              "      <td>0.018936</td>\n",
              "      <td>0.001382</td>\n",
              "      <td>-0.009367</td>\n",
              "      <td>-0.005100</td>\n",
              "      <td>-0.001019</td>\n",
              "      <td>0.006880</td>\n",
              "      <td>0.003041</td>\n",
              "      <td>0.000000</td>\n",
              "      <td>-0.005738</td>\n",
              "      <td>0.002559</td>\n",
              "      <td>0.000000</td>\n",
              "      <td>0.001292</td>\n",
              "      <td>0.004461</td>\n",
              "      <td>0.000000</td>\n",
              "      <td>0.036600</td>\n",
              "      <td>0.003266</td>\n",
              "      <td>-0.002966</td>\n",
              "      <td>-0.000474</td>\n",
              "      <td>-0.000799</td>\n",
              "      <td>-0.000841</td>\n",
              "      <td>-0.008808</td>\n",
              "      <td>-0.016539</td>\n",
              "      <td>0.009885</td>\n",
              "      <td>0.031111</td>\n",
              "      <td>0.004550</td>\n",
              "      <td>0.000455</td>\n",
              "      <td>...</td>\n",
              "      <td>-0.005741</td>\n",
              "      <td>0.025269</td>\n",
              "      <td>-0.014175</td>\n",
              "      <td>-0.007886</td>\n",
              "      <td>-0.002209</td>\n",
              "      <td>0.001306</td>\n",
              "      <td>-0.007601</td>\n",
              "      <td>0.001202</td>\n",
              "      <td>0.076923</td>\n",
              "      <td>0.038290</td>\n",
              "      <td>-0.026829</td>\n",
              "      <td>-0.007126</td>\n",
              "      <td>0.012041</td>\n",
              "      <td>-0.008553</td>\n",
              "      <td>-0.004140</td>\n",
              "      <td>-0.015886</td>\n",
              "      <td>-0.001696</td>\n",
              "      <td>-0.007989</td>\n",
              "      <td>0.003163</td>\n",
              "      <td>-0.011316</td>\n",
              "      <td>-0.002604</td>\n",
              "      <td>0.003170</td>\n",
              "      <td>0.003872</td>\n",
              "      <td>-0.001034</td>\n",
              "      <td>0.034722</td>\n",
              "      <td>-0.009195</td>\n",
              "      <td>0.004886</td>\n",
              "      <td>0.004233</td>\n",
              "      <td>0.045889</td>\n",
              "      <td>-0.011610</td>\n",
              "      <td>0.000000</td>\n",
              "      <td>0.021703</td>\n",
              "      <td>0.018421</td>\n",
              "      <td>-0.012371</td>\n",
              "      <td>-0.008929</td>\n",
              "      <td>0.0</td>\n",
              "      <td>-0.007508</td>\n",
              "      <td>0.00000</td>\n",
              "      <td>0.004640</td>\n",
              "      <td>0.040179</td>\n",
              "    </tr>\n",
              "    <tr>\n",
              "      <th>4</th>\n",
              "      <td>0.002262</td>\n",
              "      <td>-0.002251</td>\n",
              "      <td>0.003716</td>\n",
              "      <td>0.008653</td>\n",
              "      <td>-0.000377</td>\n",
              "      <td>0.005849</td>\n",
              "      <td>0.011265</td>\n",
              "      <td>0.020154</td>\n",
              "      <td>-0.008230</td>\n",
              "      <td>-0.001769</td>\n",
              "      <td>0.001043</td>\n",
              "      <td>-0.008126</td>\n",
              "      <td>-0.000196</td>\n",
              "      <td>-0.004960</td>\n",
              "      <td>-0.014159</td>\n",
              "      <td>0.005060</td>\n",
              "      <td>0.004843</td>\n",
              "      <td>0.003968</td>\n",
              "      <td>-0.002041</td>\n",
              "      <td>-0.008200</td>\n",
              "      <td>-0.000674</td>\n",
              "      <td>-0.000705</td>\n",
              "      <td>0.002061</td>\n",
              "      <td>0.002042</td>\n",
              "      <td>-0.003172</td>\n",
              "      <td>0.002904</td>\n",
              "      <td>0.010900</td>\n",
              "      <td>0.007117</td>\n",
              "      <td>0.001459</td>\n",
              "      <td>0.006259</td>\n",
              "      <td>0.013087</td>\n",
              "      <td>0.003791</td>\n",
              "      <td>-0.008800</td>\n",
              "      <td>-0.000841</td>\n",
              "      <td>-0.007519</td>\n",
              "      <td>0.018370</td>\n",
              "      <td>0.026917</td>\n",
              "      <td>0.018319</td>\n",
              "      <td>0.009058</td>\n",
              "      <td>0.000682</td>\n",
              "      <td>...</td>\n",
              "      <td>0.000000</td>\n",
              "      <td>0.000524</td>\n",
              "      <td>-0.001855</td>\n",
              "      <td>0.007949</td>\n",
              "      <td>0.006642</td>\n",
              "      <td>-0.005871</td>\n",
              "      <td>0.015319</td>\n",
              "      <td>-0.008063</td>\n",
              "      <td>0.005291</td>\n",
              "      <td>-0.001715</td>\n",
              "      <td>-0.017544</td>\n",
              "      <td>-0.014833</td>\n",
              "      <td>-0.007932</td>\n",
              "      <td>0.020848</td>\n",
              "      <td>0.015704</td>\n",
              "      <td>-0.000557</td>\n",
              "      <td>-0.015289</td>\n",
              "      <td>-0.016107</td>\n",
              "      <td>-0.006936</td>\n",
              "      <td>-0.003391</td>\n",
              "      <td>0.001567</td>\n",
              "      <td>0.004739</td>\n",
              "      <td>0.011570</td>\n",
              "      <td>-0.008720</td>\n",
              "      <td>0.026846</td>\n",
              "      <td>0.006381</td>\n",
              "      <td>0.021657</td>\n",
              "      <td>-0.006322</td>\n",
              "      <td>0.032907</td>\n",
              "      <td>0.009473</td>\n",
              "      <td>-0.001381</td>\n",
              "      <td>0.009804</td>\n",
              "      <td>0.025840</td>\n",
              "      <td>-0.017745</td>\n",
              "      <td>-0.054054</td>\n",
              "      <td>0.0</td>\n",
              "      <td>0.002421</td>\n",
              "      <td>-0.03125</td>\n",
              "      <td>-0.006928</td>\n",
              "      <td>-0.012876</td>\n",
              "    </tr>\n",
              "    <tr>\n",
              "      <th>5</th>\n",
              "      <td>0.002573</td>\n",
              "      <td>-0.003761</td>\n",
              "      <td>-0.002005</td>\n",
              "      <td>-0.004085</td>\n",
              "      <td>-0.026365</td>\n",
              "      <td>0.010114</td>\n",
              "      <td>-0.004713</td>\n",
              "      <td>-0.001411</td>\n",
              "      <td>0.001482</td>\n",
              "      <td>0.003544</td>\n",
              "      <td>0.001876</td>\n",
              "      <td>0.001639</td>\n",
              "      <td>0.001763</td>\n",
              "      <td>0.002136</td>\n",
              "      <td>0.006284</td>\n",
              "      <td>0.007323</td>\n",
              "      <td>0.004131</td>\n",
              "      <td>0.007411</td>\n",
              "      <td>-0.020450</td>\n",
              "      <td>0.020668</td>\n",
              "      <td>0.007078</td>\n",
              "      <td>0.001410</td>\n",
              "      <td>0.010695</td>\n",
              "      <td>0.020886</td>\n",
              "      <td>0.005569</td>\n",
              "      <td>0.003861</td>\n",
              "      <td>0.021965</td>\n",
              "      <td>0.005889</td>\n",
              "      <td>-0.001748</td>\n",
              "      <td>0.028863</td>\n",
              "      <td>0.005285</td>\n",
              "      <td>0.005192</td>\n",
              "      <td>-0.001816</td>\n",
              "      <td>-0.003987</td>\n",
              "      <td>0.011708</td>\n",
              "      <td>0.006352</td>\n",
              "      <td>-0.006354</td>\n",
              "      <td>0.028571</td>\n",
              "      <td>0.013465</td>\n",
              "      <td>-0.000227</td>\n",
              "      <td>...</td>\n",
              "      <td>0.001575</td>\n",
              "      <td>0.014675</td>\n",
              "      <td>0.017193</td>\n",
              "      <td>0.058360</td>\n",
              "      <td>0.026393</td>\n",
              "      <td>0.000000</td>\n",
              "      <td>0.024308</td>\n",
              "      <td>0.029747</td>\n",
              "      <td>-0.022368</td>\n",
              "      <td>0.025773</td>\n",
              "      <td>0.033163</td>\n",
              "      <td>0.007771</td>\n",
              "      <td>0.019417</td>\n",
              "      <td>0.011972</td>\n",
              "      <td>-0.004093</td>\n",
              "      <td>-0.002506</td>\n",
              "      <td>0.025877</td>\n",
              "      <td>0.012960</td>\n",
              "      <td>-0.002540</td>\n",
              "      <td>-0.005955</td>\n",
              "      <td>0.030240</td>\n",
              "      <td>-0.014937</td>\n",
              "      <td>0.046296</td>\n",
              "      <td>0.000895</td>\n",
              "      <td>0.026144</td>\n",
              "      <td>-0.013256</td>\n",
              "      <td>0.019035</td>\n",
              "      <td>-0.001414</td>\n",
              "      <td>-0.005310</td>\n",
              "      <td>0.009760</td>\n",
              "      <td>-0.006224</td>\n",
              "      <td>-0.012945</td>\n",
              "      <td>0.032746</td>\n",
              "      <td>0.004251</td>\n",
              "      <td>-0.006349</td>\n",
              "      <td>0.0</td>\n",
              "      <td>-0.002113</td>\n",
              "      <td>0.00000</td>\n",
              "      <td>0.039535</td>\n",
              "      <td>-0.008696</td>\n",
              "    </tr>\n",
              "  </tbody>\n",
              "</table>\n",
              "<p>5 rows × 981 columns</p>\n",
              "</div>"
            ],
            "text/plain": [
              "      ^GSPC        GE       IBM  ...      ABK       CAE       TKS\n",
              "1 -0.002163 -0.001119 -0.003239  ...  0.00000  0.009346  0.077626\n",
              "2  0.005240 -0.000374  0.001702  ...  0.00000 -0.002315 -0.050847\n",
              "3 -0.002348 -0.004111 -0.002163  ...  0.00000  0.004640  0.040179\n",
              "4  0.002262 -0.002251  0.003716  ... -0.03125 -0.006928 -0.012876\n",
              "5  0.002573 -0.003761 -0.002005  ...  0.00000  0.039535 -0.008696\n",
              "\n",
              "[5 rows x 981 columns]"
            ]
          },
          "metadata": {
            "tags": []
          },
          "execution_count": 3
        }
      ]
    },
    {
      "cell_type": "code",
      "metadata": {
        "colab": {
          "base_uri": "https://localhost:8080/"
        },
        "id": "U9UorlnFbyZr",
        "outputId": "94655033-6338-430e-f2c2-8eaa60ef7993"
      },
      "source": [
        "# On supprime les colonnes ou des Nan sont présents\n",
        "data = data.replace([np.inf, -np.inf], np.nan)\n",
        "data.dropna(axis=1, inplace=True)\n",
        "\n",
        "# On supprime les outliers\n",
        "outliers = []\n",
        "for i in range(len(list(data.columns))):\n",
        "  if min(data.iloc[:,:].values[:,i]) < -1 or max(data.iloc[:,:].values[:,i]) > 1:\n",
        "    outliers.append(data.columns[i])\n",
        "outliers"
      ],
      "execution_count": null,
      "outputs": [
        {
          "output_type": "execute_result",
          "data": {
            "text/plain": [
              "['VHI', 'FOE', 'DIN', 'FGP', 'HIG']"
            ]
          },
          "metadata": {
            "tags": []
          },
          "execution_count": 4
        }
      ]
    },
    {
      "cell_type": "code",
      "metadata": {
        "id": "q0G7T6I8hKtf"
      },
      "source": [
        "data.drop(columns=outliers, inplace=True) #(1929, 947)"
      ],
      "execution_count": null,
      "outputs": []
    },
    {
      "cell_type": "markdown",
      "metadata": {
        "id": "_W2R87fjeLc_"
      },
      "source": [
        "- Il nous reste donc 947 actifs au total"
      ]
    },
    {
      "cell_type": "markdown",
      "metadata": {
        "id": "8cIAok6yTAI6"
      },
      "source": [
        "## 2) Fenetre de calibration $T$\n",
        "\n",
        "- Nous prenons une fenêtre de calibration de $T=250$"
      ]
    },
    {
      "cell_type": "code",
      "metadata": {
        "id": "JLY7fG-uiq6P"
      },
      "source": [
        "T = 250"
      ],
      "execution_count": null,
      "outputs": []
    },
    {
      "cell_type": "markdown",
      "metadata": {
        "id": "d0I-uFXwhkqc"
      },
      "source": [
        "## 3) Univers de titres\n",
        "- Nous décidons de prendre $750$ titres (les $750$ premiers) afin d'avoir $T = N/3$. "
      ]
    },
    {
      "cell_type": "code",
      "metadata": {
        "id": "NGNx6EvD1H6k"
      },
      "source": [
        "univers = data.iloc[:,:750]"
      ],
      "execution_count": null,
      "outputs": []
    },
    {
      "cell_type": "markdown",
      "metadata": {
        "id": "3DHpI2n7ii2s"
      },
      "source": [
        "## 4) Appliquer l'algorithme de Louvain"
      ]
    },
    {
      "cell_type": "markdown",
      "metadata": {
        "id": "E-FW5dA8Q4U_"
      },
      "source": [
        "### Code fourni pour l'algorithme de Louvain\n",
        "\n",
        "- Pour déterminer les états de marchés nous allons utilsier l'algorithme de Louvain. \n",
        "  - C'est un algorithme d'apprentissage non supérvisé qui ne requiert pas de fixer en input le nombre d'états. \n",
        "  - Il se divise en deux parties : une phase d'optimisation de la modularité et une phase d'aggrégation de communautées.\n",
        "  - Ces deux etapes se deroulent de maniére itérative jusqu'a qu'il n'y ai plus de changement dans le systéme et que le maximum sur la modularité soit atteint.\n",
        "\n",
        "  - Il crée un ensemble inital de points et un ensemble initial d'arêtes qui forment un graphe non orienté $G = (V_{0},E_{0})$ avec $V_{0}$ les vertex initiaux et $E_{0}$ les arêtes initiales.\n",
        "\n",
        "  - Il traite chaque point l'un après l'autre en le changeant de communauté pour maximiser la modularité et s'arrête une fois que la modularité est maximale.\n",
        "\n",
        "  - Lors de l'aggregation , l'ensemble des neouds appartenants à une meme comunautée sont fusionnés en un seul noeud plus grand \n",
        "\n",
        "- On rappelle qu'on doit avoir $N>T$ pour les états de marchés et $T>N$ pour le clustering de titres. Nous devons donc avoir $N>T$ dans notre cas."
      ]
    },
    {
      "cell_type": "code",
      "metadata": {
        "id": "Goui6NFbVj6F"
      },
      "source": [
        "def compute_C_minus_C0(lambdas,v,lambda_plus):\n",
        "    N=len(lambdas)\n",
        "    C_clean=np.zeros((N, N))\n",
        "    \n",
        "    v_m=np.matrix(v)\n",
        "    # _s stands for _structure below\n",
        "    for i in range(N-1):\n",
        "        if lambdas[i]>lambda_plus:\n",
        "            C_clean=C_clean+lambdas[i] * np.dot(v_m[i,].T,v_m[i,]) \n",
        "    return C_clean    \n",
        "    \n",
        "def LouvainCorrelationClustering(R):   # R is a matrix of return\n",
        "    N=R.shape[1]\n",
        "    T=R.shape[0]\n",
        "\n",
        "    q=N*1./T\n",
        "    lambda_plus=(1.+np.sqrt(q))**2\n",
        "\n",
        "    C=R.corr()\n",
        "    lambdas, v = LA.eigh(C)\n",
        "    \n",
        "    C_s=compute_C_minus_C0(lambdas,v,lambda_plus)\n",
        "    C_s=np.abs(C_s)\n",
        "    \n",
        "    mygraph= nx.from_numpy_matrix(np.abs(C_s))\n",
        "    partition = community.community_louvain.best_partition(mygraph)\n",
        "\n",
        "    DF=pd.DataFrame.from_dict(partition,orient=\"index\")\n",
        "    return(DF)"
      ],
      "execution_count": null,
      "outputs": []
    },
    {
      "cell_type": "markdown",
      "metadata": {
        "id": "sCmHmnvK6H8H"
      },
      "source": [
        "## 5) Nombre d'états de marchés en fonction du temps\n",
        "\n",
        "- Pour notre taille de fenetre de calibration et pour nos $750$ assets, nous allons tracer le nombre d'états de marché avec la fenêtre de calibration glissante afin de montrer que le nombre d'états de marchés est stable au cours du temps"
      ]
    },
    {
      "cell_type": "code",
      "metadata": {
        "colab": {
          "base_uri": "https://localhost:8080/",
          "height": 66,
          "referenced_widgets": [
            "407e37ec9a0b426280433e79b696aefd",
            "279bcec32e6b439197aeddea74b7059b",
            "e5958e9cb19c4101be897561ab842e76",
            "013115deb341442a80a068e84828b5da",
            "1b55079473f24efb910c25bded2b24f3",
            "a89bca0888354813b12b10d127349a07",
            "ec35e8d45b434248868413d0b7f7bd99",
            "980d30e06bba4b76b49bb5317fc7e8ce"
          ]
        },
        "id": "linSk2u-neIv",
        "outputId": "01cd0b76-608c-4127-e46e-f3ba6d69240b"
      },
      "source": [
        "T=250\n",
        "nb_mkt_states=[]\n",
        "for i in tqdm(range(univers.shape[0]-T+1)):\n",
        "    universtemp = univers.loc[i:(i+T),:].T\n",
        "    days_clusters = LouvainCorrelationClustering(universtemp)\n",
        "    nb_mkt_states.append(len(np.unique(days_clusters.values)))"
      ],
      "execution_count": null,
      "outputs": [
        {
          "output_type": "display_data",
          "data": {
            "application/vnd.jupyter.widget-view+json": {
              "model_id": "407e37ec9a0b426280433e79b696aefd",
              "version_minor": 0,
              "version_major": 2
            },
            "text/plain": [
              "HBox(children=(FloatProgress(value=0.0, max=1680.0), HTML(value='')))"
            ]
          },
          "metadata": {
            "tags": []
          }
        },
        {
          "output_type": "stream",
          "text": [
            "\n"
          ],
          "name": "stdout"
        }
      ]
    },
    {
      "cell_type": "code",
      "metadata": {
        "colab": {
          "base_uri": "https://localhost:8080/",
          "height": 354
        },
        "id": "COozqPQD5UYu",
        "outputId": "5c265820-d93d-4753-c79f-27e6845475f4"
      },
      "source": [
        "fig, ax = plt.subplots(figsize=(15,5))\n",
        "ax.set(title=\"Nombre de clusters de jours pour chaque fenetre de calibration\", ylabel=\"Nb clusters\", xlabel=\"index data\")\n",
        "ax.plot(nb_mkt_states);"
      ],
      "execution_count": null,
      "outputs": [
        {
          "output_type": "display_data",
          "data": {
            "image/png": "[encoded data removed]",
            "text/plain": [
              "<Figure size 1080x360 with 1 Axes>"
            ]
          },
          "metadata": {
            "tags": []
          }
        }
      ]
    },
    {
      "cell_type": "markdown",
      "metadata": {
        "id": "5TD42gnS6FIc"
      },
      "source": [
        "- Nous voyons donc que nous avons entre $3$ et $10$ états de marché sur toutes nos fenetres de calbration. Nous pouvons donc conclure que la méthode de Louvain est très stable."
      ]
    },
    {
      "cell_type": "markdown",
      "metadata": {
        "id": "84NZESgg-ZiM"
      },
      "source": [
        "# 6) Etats qui ne varient pas au cours du temps\n",
        "\n",
        "- Typiquement, si on ne veut pas que le nombre d'états varie au cours du temps. Nous devons faire de la classification supervisée. Mais cela recquiert de connaitre les états à l'avance."
      ]
    },
    {
      "cell_type": "markdown",
      "metadata": {
        "id": "IzIpwmHx1gxm"
      },
      "source": [
        "---\n",
        "#2) Stratégies basées sur les états de marché\n",
        "\n",
        "- On applique les questions 1), 2) et 3) ensembles ici.\n",
        "\n",
        "- Nous prenons les $947$ actifs pour définir les états de marché."
      ]
    },
    {
      "cell_type": "markdown",
      "metadata": {
        "id": "2Y4nCdBixAJA"
      },
      "source": [
        "- Notre stratégie va se baser sur le long et le short d'un actif conditionnellement au dernier état de marché de la fenêtre temporelle.\n",
        "  - C'est à dire que, connaissant le dernier état de marché de notre fenêtre, nous allons sélectionner l'état de marché qui apparait le plus souvent juste après ceux égaux au dernier de notre fenêtre,\n",
        "  - Pour cet état, on calcule conditionnellement la moyenne des rendements de chaque actif,\n",
        "  - On trie ces rendements,\n",
        "  - On décide de shorter les 5 derniers assets associés et d'être long sur les 5 premiers pour le pas suivant (notre stratégie est donc à un pas)\n",
        "  - On répète sur chaque fenêtre glissante (100 fenêtres au total et taille de fenêtre de $T=250$)."
      ]
    },
    {
      "cell_type": "code",
      "metadata": {
        "id": "KOK1RUIK1dol"
      },
      "source": [
        "def asset_selection(states,returns_wdw):\n",
        "  \"\"\" Méthode nous permettant de sélectionner le meilleur et le moins bon des assets sur la période sélectionnée\"\"\"\n",
        "  # On prend les index des états juste après ceux égaux au dernier\n",
        "  ind = np.where(states.values == states.values[-1])[0] + 1\n",
        "  # On remove le dernier car il correspond à notre dernier jour\n",
        "  ind = ind[:-1] \n",
        "  # On sélectionne ces états\n",
        "  l = states.loc[ind].values.reshape(1,-1).tolist()[0]\n",
        "  # On compte le nombre d'apparaitions des états\n",
        "  list_count = [[x,l.count(x)] for x in set(l)]\n",
        "  # On trie de manière décroissante en fonction de l'apparition\n",
        "  list_count.sort(key=lambda x: x[1], reverse=True)\n",
        "  # On selectionne le plus courant\n",
        "  next_state = list_count[0][0]\n",
        "  # On selectionne les index d'apparition de cet état\n",
        "  index_next = np.array(np.where(states.values == next_state)[0])\n",
        "  # On filtre notre data de returns seulement sur cet état\n",
        "  returns_wdw = returns_wdw.iloc[index_next]\n",
        "  # On sélectionne les 5 meilleurs assets de notre fenetre et les 5 pires\n",
        "  best_asset_wdw = list(returns_wdw.mean(axis=0).sort_values(ascending=False).index[:5])\n",
        "  worst_asset_wdw = list(returns_wdw.mean(axis=0).sort_values(ascending=False).index[-5:])\n",
        "  return best_asset_wdw, worst_asset_wdw"
      ],
      "execution_count": null,
      "outputs": []
    },
    {
      "cell_type": "code",
      "metadata": {
        "id": "o5VzDYoNodEL"
      },
      "source": [
        "def strat_Mkt_state(data, nb_windows, wdw):\n",
        "  # Notre dataframe d'asset à long/shorter\n",
        " asset_signal = pd.DataFrame( [\"rowtobeinpos\", \"asset_long\", \"asset_short\"])\n",
        " for i in tqdm(range(nb_windows)): # on le fait avec 100 fenetres de calibrations\n",
        "  # On selectionne notre partie de returns\n",
        "  returns_wdw = data.iloc[i:(i+wdw)]\n",
        "  # On définit les états de marché sur ces returns\n",
        "  states = LouvainCorrelationClustering(returns_wdw.T)\n",
        "  # on utilise la fonction afin de selectionner nos assets\n",
        "  best_asset_wdw, worst_asset_wdw = asset_selection(states, returns_wdw)\n",
        "  # on les ajoute a notre dataframe, avec la ligne correspondant au pas de temps ou on tiendra la position\n",
        "  asset_signal = asset_signal.append({'rowtobeinpos' : i+wdw , 'asset_long' : best_asset_wdw, 'asset_short' : worst_asset_wdw}, ignore_index=True)\n",
        " return asset_signal"
      ],
      "execution_count": null,
      "outputs": []
    },
    {
      "cell_type": "code",
      "metadata": {
        "colab": {
          "base_uri": "https://localhost:8080/",
          "height": 66,
          "referenced_widgets": [
            "769a145c59c34501a7d76dcb243d97ba",
            "a5a96196328645bca4d626da73434417",
            "62474b8c41dc4c30917cbd358b01fc9c",
            "ac15e74811164a529c2f5d034eed538a",
            "291e9018d3b7455e89b272605401a577",
            "3efd612fcee54327a184ff3d6ecf365f",
            "1ebece82dc6e4c89a1d869ef6a99dad2",
            "bc3972d3a1e846d0ac130f6a72b8e5be"
          ]
        },
        "id": "vTuBMzcZodCH",
        "outputId": "65d49d40-4071-4111-e82f-031171813eba"
      },
      "source": [
        "asset_signal = strat_Mkt_state(data, 100, T)"
      ],
      "execution_count": null,
      "outputs": [
        {
          "output_type": "display_data",
          "data": {
            "application/vnd.jupyter.widget-view+json": {
              "model_id": "769a145c59c34501a7d76dcb243d97ba",
              "version_minor": 0,
              "version_major": 2
            },
            "text/plain": [
              "HBox(children=(FloatProgress(value=0.0), HTML(value='')))"
            ]
          },
          "metadata": {
            "tags": []
          }
        },
        {
          "output_type": "stream",
          "text": [
            "\n"
          ],
          "name": "stdout"
        }
      ]
    },
    {
      "cell_type": "markdown",
      "metadata": {
        "id": "T2b2tZsOvlWq"
      },
      "source": [
        "- Voici les assets a avoir en portefeuille et à shorter pour les $5$ premiers et derniers pas de temps\n",
        "  - \"rowtobeinpos\" respecte l'indexation $0$ "
      ]
    },
    {
      "cell_type": "code",
      "metadata": {
        "colab": {
          "base_uri": "https://localhost:8080/",
          "height": 419
        },
        "id": "UYAYVnqruWy4",
        "outputId": "3f00100d-a864-40b6-a082-05d091b67e88"
      },
      "source": [
        "asset_signal"
      ],
      "execution_count": null,
      "outputs": [
        {
          "output_type": "execute_result",
          "data": {
            "text/html": [
              "<div>\n",
              "<style scoped>\n",
              "    .dataframe tbody tr th:only-of-type {\n",
              "        vertical-align: middle;\n",
              "    }\n",
              "\n",
              "    .dataframe tbody tr th {\n",
              "        vertical-align: top;\n",
              "    }\n",
              "\n",
              "    .dataframe thead th {\n",
              "        text-align: right;\n",
              "    }\n",
              "</style>\n",
              "<table border=\"1\" class=\"dataframe\">\n",
              "  <thead>\n",
              "    <tr style=\"text-align: right;\">\n",
              "      <th></th>\n",
              "      <th>rowtobeinpos</th>\n",
              "      <th>asset_long</th>\n",
              "      <th>asset_short</th>\n",
              "    </tr>\n",
              "  </thead>\n",
              "  <tbody>\n",
              "    <tr>\n",
              "      <th>0</th>\n",
              "      <td>250</td>\n",
              "      <td>[SGU, DRL, NRT, UFI, GFI]</td>\n",
              "      <td>[NL, GCH, POT, CIA, REV]</td>\n",
              "    </tr>\n",
              "    <tr>\n",
              "      <th>1</th>\n",
              "      <td>251</td>\n",
              "      <td>[NEU, AEM, CAS, SWC, AKS]</td>\n",
              "      <td>[OI, RSH, HOV, BTH, REV]</td>\n",
              "    </tr>\n",
              "    <tr>\n",
              "      <th>2</th>\n",
              "      <td>252</td>\n",
              "      <td>[TIE, MDR, SWN, HMY, CBZ]</td>\n",
              "      <td>[HOV, CMO, BXG, BTH, LXK]</td>\n",
              "    </tr>\n",
              "    <tr>\n",
              "      <th>3</th>\n",
              "      <td>253</td>\n",
              "      <td>[SGU, TIE, PNK, MIL, HPQ]</td>\n",
              "      <td>[DHI, TOL, TDW, HOV, CYD]</td>\n",
              "    </tr>\n",
              "    <tr>\n",
              "      <th>4</th>\n",
              "      <td>254</td>\n",
              "      <td>[NEU, TIE, MTZ, PSS, AEM]</td>\n",
              "      <td>[REV, NR, KWK, RSH, NL]</td>\n",
              "    </tr>\n",
              "    <tr>\n",
              "      <th>...</th>\n",
              "      <td>...</td>\n",
              "      <td>...</td>\n",
              "      <td>...</td>\n",
              "    </tr>\n",
              "    <tr>\n",
              "      <th>95</th>\n",
              "      <td>345</td>\n",
              "      <td>[GEO, AOI, BID, AP, MIG]</td>\n",
              "      <td>[GFI, ZQK, DLX, SPF, LM]</td>\n",
              "    </tr>\n",
              "    <tr>\n",
              "      <th>96</th>\n",
              "      <td>346</td>\n",
              "      <td>[SGU, ELN, AKS, AGN, AEM]</td>\n",
              "      <td>[RYL, NVR, CQB, CHS, REV]</td>\n",
              "    </tr>\n",
              "    <tr>\n",
              "      <th>97</th>\n",
              "      <td>347</td>\n",
              "      <td>[AEM, VMI, AP, GES, KGC]</td>\n",
              "      <td>[LUB, HOV, KNX, UAM, CQB]</td>\n",
              "    </tr>\n",
              "    <tr>\n",
              "      <th>98</th>\n",
              "      <td>348</td>\n",
              "      <td>[ELN, GRA, GEO, NEU, PKE]</td>\n",
              "      <td>[MEI, NL, DRL, LUB, CYD]</td>\n",
              "    </tr>\n",
              "    <tr>\n",
              "      <th>99</th>\n",
              "      <td>349</td>\n",
              "      <td>[NEU, CAS, WDC, OMG, TLK]</td>\n",
              "      <td>[CDI, RSH, CQB, UNH, SGU]</td>\n",
              "    </tr>\n",
              "  </tbody>\n",
              "</table>\n",
              "<p>100 rows × 3 columns</p>\n",
              "</div>"
            ],
            "text/plain": [
              "   rowtobeinpos                 asset_long                asset_short\n",
              "0           250  [SGU, DRL, NRT, UFI, GFI]   [NL, GCH, POT, CIA, REV]\n",
              "1           251  [NEU, AEM, CAS, SWC, AKS]   [OI, RSH, HOV, BTH, REV]\n",
              "2           252  [TIE, MDR, SWN, HMY, CBZ]  [HOV, CMO, BXG, BTH, LXK]\n",
              "3           253  [SGU, TIE, PNK, MIL, HPQ]  [DHI, TOL, TDW, HOV, CYD]\n",
              "4           254  [NEU, TIE, MTZ, PSS, AEM]    [REV, NR, KWK, RSH, NL]\n",
              "..          ...                        ...                        ...\n",
              "95          345   [GEO, AOI, BID, AP, MIG]   [GFI, ZQK, DLX, SPF, LM]\n",
              "96          346  [SGU, ELN, AKS, AGN, AEM]  [RYL, NVR, CQB, CHS, REV]\n",
              "97          347   [AEM, VMI, AP, GES, KGC]  [LUB, HOV, KNX, UAM, CQB]\n",
              "98          348  [ELN, GRA, GEO, NEU, PKE]   [MEI, NL, DRL, LUB, CYD]\n",
              "99          349  [NEU, CAS, WDC, OMG, TLK]  [CDI, RSH, CQB, UNH, SGU]\n",
              "\n",
              "[100 rows x 3 columns]"
            ]
          },
          "metadata": {
            "tags": []
          },
          "execution_count": 503
        }
      ]
    },
    {
      "cell_type": "code",
      "metadata": {
        "id": "DM2YjJ9vkfxZ"
      },
      "source": [
        "def compute_strat_returns(data, asset_signal, nb_windows):\n",
        " ret = np.zeros(nb_windows)\n",
        " for i in range(nb_windows):\n",
        "      ind = asset_signal['rowtobeinpos'][i]\n",
        "      best =  asset_signal['asset_long'][i]\n",
        "      worst = asset_signal['asset_short'][i]\n",
        "      ret[i] = 0.5*np.average(data[best].iloc[ind].values) - 0.5*np.average(data[worst].iloc[ind].values)\n",
        " return ret"
      ],
      "execution_count": null,
      "outputs": []
    },
    {
      "cell_type": "code",
      "metadata": {
        "colab": {
          "base_uri": "https://localhost:8080/",
          "height": 354
        },
        "id": "PAkkYwGUkfu5",
        "outputId": "6a29df63-fec6-4faf-acfd-c82c656b56e9"
      },
      "source": [
        "ret = compute_strat_returns(data, asset_signal, 100)\n",
        "# On plot les rendements cumulés\n",
        "retcum = (1+ret).cumprod()\n",
        "retcum\n",
        "# On plt les rendements cumulés\n",
        "fig, ax = plt.subplots(figsize=(15,5))\n",
        "ax.set(title=\"Rendements cumulés sur les $100$ premières données\", xlabel=\"$\\delta t$\", ylabel=\"rendement\")\n",
        "ax.plot(retcum);"
      ],
      "execution_count": null,
      "outputs": [
        {
          "output_type": "display_data",
          "data": {
            "image/png": "[encoded data removed]",
            "text/plain": [
              "<Figure size 1080x360 with 1 Axes>"
            ]
          },
          "metadata": {
            "tags": []
          }
        }
      ]
    },
    {
      "cell_type": "markdown",
      "metadata": {
        "id": "pBtQ5fg9IIaG"
      },
      "source": [
        "- Mais vérifions quand même sur une autre partie du dataset, après les $1000$ premières lignes par exemple."
      ]
    },
    {
      "cell_type": "code",
      "metadata": {
        "colab": {
          "base_uri": "https://localhost:8080/",
          "height": 66,
          "referenced_widgets": [
            "f4337f0575494772a3489b058e386b23",
            "9e5a2b90d9d143fb82d5ce1cd4c4a6b3",
            "c976f97edce545d7b362679afb184ad2",
            "79806612bc2e4207bb0c76a17544418b",
            "27b790cd6e7d43119e19dc01ddbd5808",
            "e4c4eccd0954476e8a2b0ec9599e7e85",
            "d46d2f2d48b94d30bde3fd1d11c21ebb",
            "01195cab2a4b4807818ab46348278347"
          ]
        },
        "id": "LiKlr3i_yyYr",
        "outputId": "c2278592-196f-45b5-8c16-67a93b3d5ae8"
      },
      "source": [
        "asset_signal_2 = strat_Mkt_state(data.iloc[1000:], 100, T)"
      ],
      "execution_count": null,
      "outputs": [
        {
          "output_type": "display_data",
          "data": {
            "application/vnd.jupyter.widget-view+json": {
              "model_id": "f4337f0575494772a3489b058e386b23",
              "version_minor": 0,
              "version_major": 2
            },
            "text/plain": [
              "HBox(children=(FloatProgress(value=0.0), HTML(value='')))"
            ]
          },
          "metadata": {
            "tags": []
          }
        },
        {
          "output_type": "stream",
          "text": [
            "\n"
          ],
          "name": "stdout"
        }
      ]
    },
    {
      "cell_type": "code",
      "metadata": {
        "colab": {
          "base_uri": "https://localhost:8080/",
          "height": 354
        },
        "id": "pZlBH8hAyySc",
        "outputId": "26c32e2f-879a-41b7-a8db-9a0732566f00"
      },
      "source": [
        "ret2 = compute_strat_returns(data, asset_signal_2, 100)\n",
        "retcum2 = (1+ret2).cumprod()\n",
        "retcum2\n",
        "fig, ax = plt.subplots(figsize=(15,5))\n",
        "ax.set(title=\"Rendements cumulés - données [1000-1100]\", xlabel=\"$\\delta t$\", ylabel=\"rendement\")\n",
        "ax.plot(retcum2);"
      ],
      "execution_count": null,
      "outputs": [
        {
          "output_type": "display_data",
          "data": {
            "image/png": "[encoded data removed]",
            "text/plain": [
              "<Figure size 1080x360 with 1 Axes>"
            ]
          },
          "metadata": {
            "tags": []
          }
        }
      ]
    },
    {
      "cell_type": "markdown",
      "metadata": {
        "id": "zJHZsSSo74ng"
      },
      "source": [
        "- Nous voyons que la stratégie est également profitable, cela est satisfaisant, mais ne veut biensur pas dire qu'elle sera profitable tout le temps et pour tous les paramètres."
      ]
    },
    {
      "cell_type": "markdown",
      "metadata": {
        "id": "q3VMzBFINv4u"
      },
      "source": [
        "---\n",
        "# 3 - Prédiction de la direction d'un titre \n",
        "\n",
        "- Ici nous allons utiliser des méthodes de ML/DL pour prédire le signe du rendement futur d'un titre financier de notre choix. \n",
        "\n",
        "- Nous allons essayer de fitter les données avec un ANN, puis avec un Random Forest."
      ]
    },
    {
      "cell_type": "markdown",
      "metadata": {
        "id": "8fbJIapPKr_x"
      },
      "source": [
        "## ANN"
      ]
    },
    {
      "cell_type": "code",
      "metadata": {
        "id": "81X0C3g0yyKj"
      },
      "source": [
        "from keras.models import Sequential\n",
        "from keras.layers import Dense\n",
        "from keras.layers import LSTM\n",
        "from keras.layers import Dropout"
      ],
      "execution_count": null,
      "outputs": []
    },
    {
      "cell_type": "code",
      "metadata": {
        "id": "oQTrPZHwPMxR"
      },
      "source": [
        "R_signtopredict = np.sign(data[\"IBM\"])\n",
        "t0 = 0\n",
        "t1 = 1500"
      ],
      "execution_count": null,
      "outputs": []
    },
    {
      "cell_type": "code",
      "metadata": {
        "id": "k99dV3zRQQkv"
      },
      "source": [
        "# Avec un seul Louvain sur t0;t1\n",
        "K = 30\n",
        "X_train = []\n",
        "Y_train = []\n",
        "for i in range(K, len(days_clusters)):\n",
        "  X_train.append(days_clusters.values[(i-K):i,0])\n",
        "  Y_train.append(R_signtopredict.iloc[i])\n",
        "X_train = np.array(X_train)\n",
        "Y_train = np.array(Y_train)\n",
        "# On eneleve la derniere ligne qui nous servira pour la prediction\n",
        "to_predict = X_train[-1,:]\n",
        "X_train = X_train[:-1,:]\n",
        "real_last_ret = Y_train[-1]\n",
        "Y_train = Y_train[:-1]\n",
        "# On met les valeus -1 de Y_train à 0 pour n'avoir que des 0 1s\n",
        "Y_train[Y_train==-1] = 0"
      ],
      "execution_count": null,
      "outputs": []
    },
    {
      "cell_type": "code",
      "metadata": {
        "id": "f_DXzklF1v62"
      },
      "source": [
        "# Avec un louvain pour chaque ligne de la matrice P\n",
        "K = 30\n",
        "X_train = []\n",
        "Y_train = []\n",
        "for i in tqdm(range(K, t1)):\n",
        "  datatemp = data.iloc[(i-K):i,:].T\n",
        "  days_clusters = LouvainCorrelationClustering(datatemp)\n",
        "  X_train.append(days_clusters.values.reshape(1,-1)[0])\n",
        "  Y_train.append(R_signtopredict.iloc[i])\n",
        "X_train = np.array(X_train)\n",
        "Y_train = np.array(Y_train)\n",
        "# On eneleve la derniere ligne qui nous servira pour la prediction\n",
        "to_predict = X_train[-1,:]\n",
        "X_train = X_train[:-1,:]\n",
        "real_last_ret = Y_train[-1]\n",
        "Y_train = Y_train[:-1]\n",
        "# On met les valeus -1 de Y_train à 0 pour n'avoir que des 0 1\n",
        "Y_train[Y_train==-1] = 0"
      ],
      "execution_count": null,
      "outputs": []
    },
    {
      "cell_type": "code",
      "metadata": {
        "id": "TYR4II1lQQYK"
      },
      "source": [
        "X_train = pd.DataFrame(X_train)"
      ],
      "execution_count": null,
      "outputs": []
    },
    {
      "cell_type": "code",
      "metadata": {
        "id": "1r6L_bLjiBbH"
      },
      "source": [
        "# One Hot encoding des variables catégoriques\n",
        "from sklearn.preprocessing import OneHotEncoder\n",
        "from sklearn.compose import make_column_transformer\n",
        "\n",
        "X_train = pd.DataFrame(X_train)\n",
        "\n",
        "preprocess = make_column_transformer(\n",
        "        (OneHotEncoder(), X_train.columns),\n",
        "        remainder=\"passthrough\")\n",
        "X = preprocess.fit_transform(X_train)\n",
        "to_predict = preprocess.transform(to_predict.reshape(1,-1))"
      ],
      "execution_count": null,
      "outputs": []
    },
    {
      "cell_type": "code",
      "metadata": {
        "colab": {
          "base_uri": "https://localhost:8080/"
        },
        "id": "wZlWcqADjR6A",
        "outputId": "e8221880-50ee-45ac-dfb2-b697c0321317"
      },
      "source": [
        "X = X.toarray() # a commenter quand X n'est pas retourné en sparse array\n",
        "X.shape"
      ],
      "execution_count": null,
      "outputs": [
        {
          "output_type": "execute_result",
          "data": {
            "text/plain": [
              "(1469, 316)"
            ]
          },
          "metadata": {
            "tags": []
          },
          "execution_count": 45
        }
      ]
    },
    {
      "cell_type": "code",
      "metadata": {
        "colab": {
          "base_uri": "https://localhost:8080/"
        },
        "id": "CmYuWKdvdoaU",
        "outputId": "ebfe3205-53f0-487f-f21f-8ce606c7c260"
      },
      "source": [
        "Y_train.shape"
      ],
      "execution_count": null,
      "outputs": [
        {
          "output_type": "execute_result",
          "data": {
            "text/plain": [
              "(1469,)"
            ]
          },
          "metadata": {
            "tags": []
          },
          "execution_count": 20
        }
      ]
    },
    {
      "cell_type": "code",
      "metadata": {
        "id": "yE4BUUiFNCv-"
      },
      "source": [
        "# On initialise\n",
        "classifieur = Sequential()\n",
        "\n",
        "classifieur.add(Dense(units = 30, activation = \"tanh\", input_dim = X.shape[1]))\n",
        "# classifieur.add(Dropout(rate = 0.2))\n",
        "classifieur.add(Dense(units = 30, activation = \"tanh\"))\n",
        "# classifieur.add(Dropout(rate = 0.2))\n",
        "classifieur.add(Dense(units = 30, activation = \"tanh\"))\n",
        "classifieur.add(Dropout(rate = 0.2))\n",
        "classifieur.add(Dense(units = 20, activation = \"tanh\"))\n",
        "classifieur.add(Dropout(rate = 0.2))\n",
        "classifieur.add(Dense(units = 20, activation = \"tanh\"))\n",
        "# classifieur.add(Dropout(rate = 0.2))\n",
        "classifieur.add(Dense(units = 20, activation = \"tanh\")) # Dernière couche donc on ne met pas le return_sequencies\n",
        "# classifieur.add(Dropout(rate = 0.2))\n",
        "\n",
        "# On rajoute la couche de sortie\n",
        "classifieur.add(Dense(units=1, activation=\"sigmoid\")) # on ne précise pas l'activation, donc ca va être \"linéaire\" par défaut. Mais on peut aussi mettre \"ReLU\" !\n",
        "# On compile \n",
        "classifieur.compile(optimizer=\"adam\", loss=\"binary_crossentropy\", metrics=[\"accuracy\"])"
      ],
      "execution_count": null,
      "outputs": []
    },
    {
      "cell_type": "code",
      "metadata": {
        "colab": {
          "base_uri": "https://localhost:8080/"
        },
        "id": "xTUPPqR0p6cn",
        "outputId": "d05ba50b-85e7-44f7-8fe7-b8eea285d2f1"
      },
      "source": [
        "# classifieur.fit(X, Y_train, epochs=100, validation_split=0.1, batch_size=10, callbacks=[es])\n",
        "classifieur.fit(X, Y_train, epochs=100, validation_split=0.2, batch_size=10)"
      ],
      "execution_count": null,
      "outputs": [
        {
          "output_type": "stream",
          "text": [
            "Epoch 1/100\n",
            "118/118 [==============================] - 1s 5ms/step - loss: 0.7067 - accuracy: 0.4886 - val_loss: 0.6899 - val_accuracy: 0.5374\n",
            "Epoch 2/100\n",
            "118/118 [==============================] - 0s 3ms/step - loss: 0.6918 - accuracy: 0.5201 - val_loss: 0.6857 - val_accuracy: 0.5408\n",
            "Epoch 3/100\n",
            "118/118 [==============================] - 0s 3ms/step - loss: 0.6839 - accuracy: 0.5838 - val_loss: 0.6847 - val_accuracy: 0.5408\n",
            "Epoch 4/100\n",
            "118/118 [==============================] - 0s 3ms/step - loss: 0.6718 - accuracy: 0.5818 - val_loss: 0.6916 - val_accuracy: 0.5510\n",
            "Epoch 5/100\n",
            "118/118 [==============================] - 0s 3ms/step - loss: 0.6645 - accuracy: 0.6261 - val_loss: 0.6920 - val_accuracy: 0.5510\n",
            "Epoch 6/100\n",
            "118/118 [==============================] - 0s 3ms/step - loss: 0.6578 - accuracy: 0.6359 - val_loss: 0.6999 - val_accuracy: 0.5340\n",
            "Epoch 7/100\n",
            "118/118 [==============================] - 0s 3ms/step - loss: 0.6446 - accuracy: 0.6316 - val_loss: 0.7051 - val_accuracy: 0.5544\n",
            "Epoch 8/100\n",
            "118/118 [==============================] - 0s 3ms/step - loss: 0.6561 - accuracy: 0.6383 - val_loss: 0.7147 - val_accuracy: 0.5510\n",
            "Epoch 9/100\n",
            "118/118 [==============================] - 0s 3ms/step - loss: 0.6636 - accuracy: 0.6097 - val_loss: 0.7302 - val_accuracy: 0.5612\n",
            "Epoch 10/100\n",
            "118/118 [==============================] - 0s 3ms/step - loss: 0.6385 - accuracy: 0.6417 - val_loss: 0.7057 - val_accuracy: 0.5340\n",
            "Epoch 11/100\n",
            "118/118 [==============================] - 0s 3ms/step - loss: 0.6256 - accuracy: 0.6661 - val_loss: 0.7165 - val_accuracy: 0.5238\n",
            "Epoch 12/100\n",
            "118/118 [==============================] - 0s 3ms/step - loss: 0.6126 - accuracy: 0.6786 - val_loss: 0.7316 - val_accuracy: 0.5306\n",
            "Epoch 13/100\n",
            "118/118 [==============================] - 0s 3ms/step - loss: 0.6163 - accuracy: 0.6787 - val_loss: 0.7446 - val_accuracy: 0.5408\n",
            "Epoch 14/100\n",
            "118/118 [==============================] - 0s 3ms/step - loss: 0.5998 - accuracy: 0.7021 - val_loss: 0.7442 - val_accuracy: 0.5442\n",
            "Epoch 15/100\n",
            "118/118 [==============================] - 0s 3ms/step - loss: 0.6041 - accuracy: 0.6709 - val_loss: 0.7664 - val_accuracy: 0.5408\n",
            "Epoch 16/100\n",
            "118/118 [==============================] - 0s 3ms/step - loss: 0.5656 - accuracy: 0.7263 - val_loss: 0.7664 - val_accuracy: 0.5442\n",
            "Epoch 17/100\n",
            "118/118 [==============================] - 0s 3ms/step - loss: 0.5731 - accuracy: 0.7109 - val_loss: 0.7752 - val_accuracy: 0.5408\n",
            "Epoch 18/100\n",
            "118/118 [==============================] - 0s 3ms/step - loss: 0.5462 - accuracy: 0.7181 - val_loss: 0.8002 - val_accuracy: 0.5306\n",
            "Epoch 19/100\n",
            "118/118 [==============================] - 0s 3ms/step - loss: 0.5663 - accuracy: 0.6874 - val_loss: 0.8324 - val_accuracy: 0.5510\n",
            "Epoch 20/100\n",
            "118/118 [==============================] - 0s 3ms/step - loss: 0.5267 - accuracy: 0.7443 - val_loss: 0.8436 - val_accuracy: 0.5408\n",
            "Epoch 21/100\n",
            "118/118 [==============================] - 0s 3ms/step - loss: 0.5000 - accuracy: 0.7753 - val_loss: 0.8562 - val_accuracy: 0.5442\n",
            "Epoch 22/100\n",
            "118/118 [==============================] - 0s 3ms/step - loss: 0.5073 - accuracy: 0.7701 - val_loss: 0.8771 - val_accuracy: 0.5374\n",
            "Epoch 23/100\n",
            "118/118 [==============================] - 0s 3ms/step - loss: 0.4616 - accuracy: 0.7978 - val_loss: 0.8575 - val_accuracy: 0.5442\n",
            "Epoch 24/100\n",
            "118/118 [==============================] - 0s 3ms/step - loss: 0.4690 - accuracy: 0.7887 - val_loss: 0.9156 - val_accuracy: 0.5306\n",
            "Epoch 25/100\n",
            "118/118 [==============================] - 0s 3ms/step - loss: 0.4704 - accuracy: 0.7848 - val_loss: 0.9512 - val_accuracy: 0.5544\n",
            "Epoch 26/100\n",
            "118/118 [==============================] - 0s 3ms/step - loss: 0.4385 - accuracy: 0.8096 - val_loss: 0.9598 - val_accuracy: 0.5782\n",
            "Epoch 27/100\n",
            "118/118 [==============================] - 0s 3ms/step - loss: 0.4167 - accuracy: 0.8197 - val_loss: 0.9712 - val_accuracy: 0.5612\n",
            "Epoch 28/100\n",
            "118/118 [==============================] - 0s 3ms/step - loss: 0.3960 - accuracy: 0.8341 - val_loss: 1.0583 - val_accuracy: 0.5476\n",
            "Epoch 29/100\n",
            "118/118 [==============================] - 0s 2ms/step - loss: 0.3979 - accuracy: 0.8218 - val_loss: 1.0664 - val_accuracy: 0.5680\n",
            "Epoch 30/100\n",
            "118/118 [==============================] - 0s 3ms/step - loss: 0.3847 - accuracy: 0.8352 - val_loss: 1.0182 - val_accuracy: 0.5918\n",
            "Epoch 31/100\n",
            "118/118 [==============================] - 0s 3ms/step - loss: 0.3616 - accuracy: 0.8432 - val_loss: 1.0976 - val_accuracy: 0.5646\n",
            "Epoch 32/100\n",
            "118/118 [==============================] - 0s 3ms/step - loss: 0.3455 - accuracy: 0.8630 - val_loss: 1.1285 - val_accuracy: 0.5612\n",
            "Epoch 33/100\n",
            "118/118 [==============================] - 0s 3ms/step - loss: 0.3326 - accuracy: 0.8757 - val_loss: 1.1294 - val_accuracy: 0.5578\n",
            "Epoch 34/100\n",
            "118/118 [==============================] - 0s 3ms/step - loss: 0.3047 - accuracy: 0.8718 - val_loss: 1.1926 - val_accuracy: 0.5612\n",
            "Epoch 35/100\n",
            "118/118 [==============================] - 0s 3ms/step - loss: 0.3123 - accuracy: 0.8837 - val_loss: 1.1659 - val_accuracy: 0.5782\n",
            "Epoch 36/100\n",
            "118/118 [==============================] - 0s 3ms/step - loss: 0.3005 - accuracy: 0.8849 - val_loss: 1.2215 - val_accuracy: 0.5544\n",
            "Epoch 37/100\n",
            "118/118 [==============================] - 0s 3ms/step - loss: 0.2696 - accuracy: 0.9047 - val_loss: 1.3329 - val_accuracy: 0.5646\n",
            "Epoch 38/100\n",
            "118/118 [==============================] - 0s 3ms/step - loss: 0.2979 - accuracy: 0.8760 - val_loss: 1.3574 - val_accuracy: 0.5578\n",
            "Epoch 39/100\n",
            "118/118 [==============================] - 0s 3ms/step - loss: 0.2828 - accuracy: 0.9019 - val_loss: 1.3464 - val_accuracy: 0.5544\n",
            "Epoch 40/100\n",
            "118/118 [==============================] - 0s 3ms/step - loss: 0.2173 - accuracy: 0.9313 - val_loss: 1.3408 - val_accuracy: 0.5612\n",
            "Epoch 41/100\n",
            "118/118 [==============================] - 0s 3ms/step - loss: 0.2580 - accuracy: 0.9105 - val_loss: 1.4217 - val_accuracy: 0.5578\n",
            "Epoch 42/100\n",
            "118/118 [==============================] - 0s 3ms/step - loss: 0.2234 - accuracy: 0.9292 - val_loss: 1.3897 - val_accuracy: 0.5816\n",
            "Epoch 43/100\n",
            "118/118 [==============================] - 0s 3ms/step - loss: 0.2291 - accuracy: 0.9248 - val_loss: 1.5253 - val_accuracy: 0.5612\n",
            "Epoch 44/100\n",
            "118/118 [==============================] - 0s 3ms/step - loss: 0.2038 - accuracy: 0.9411 - val_loss: 1.5942 - val_accuracy: 0.5442\n",
            "Epoch 45/100\n",
            "118/118 [==============================] - 0s 3ms/step - loss: 0.1976 - accuracy: 0.9290 - val_loss: 1.5210 - val_accuracy: 0.5476\n",
            "Epoch 46/100\n",
            "118/118 [==============================] - 0s 3ms/step - loss: 0.1889 - accuracy: 0.9408 - val_loss: 1.6307 - val_accuracy: 0.5408\n",
            "Epoch 47/100\n",
            "118/118 [==============================] - 0s 3ms/step - loss: 0.2387 - accuracy: 0.9094 - val_loss: 1.4500 - val_accuracy: 0.5714\n",
            "Epoch 48/100\n",
            "118/118 [==============================] - 0s 3ms/step - loss: 0.1941 - accuracy: 0.9383 - val_loss: 1.6160 - val_accuracy: 0.5544\n",
            "Epoch 49/100\n",
            "118/118 [==============================] - 0s 3ms/step - loss: 0.1924 - accuracy: 0.9372 - val_loss: 1.5890 - val_accuracy: 0.5646\n",
            "Epoch 50/100\n",
            "118/118 [==============================] - 0s 3ms/step - loss: 0.1733 - accuracy: 0.9481 - val_loss: 1.7267 - val_accuracy: 0.5680\n",
            "Epoch 51/100\n",
            "118/118 [==============================] - 0s 3ms/step - loss: 0.1505 - accuracy: 0.9508 - val_loss: 1.6155 - val_accuracy: 0.5544\n",
            "Epoch 52/100\n",
            "118/118 [==============================] - 0s 3ms/step - loss: 0.1864 - accuracy: 0.9450 - val_loss: 1.6385 - val_accuracy: 0.5680\n",
            "Epoch 53/100\n",
            "118/118 [==============================] - 0s 3ms/step - loss: 0.1644 - accuracy: 0.9499 - val_loss: 1.7098 - val_accuracy: 0.5612\n",
            "Epoch 54/100\n",
            "118/118 [==============================] - 0s 3ms/step - loss: 0.1615 - accuracy: 0.9480 - val_loss: 1.6313 - val_accuracy: 0.5578\n",
            "Epoch 55/100\n",
            "118/118 [==============================] - 0s 3ms/step - loss: 0.1890 - accuracy: 0.9425 - val_loss: 1.7876 - val_accuracy: 0.5442\n",
            "Epoch 56/100\n",
            "118/118 [==============================] - 0s 3ms/step - loss: 0.1657 - accuracy: 0.9515 - val_loss: 1.6870 - val_accuracy: 0.5612\n",
            "Epoch 57/100\n",
            "118/118 [==============================] - 0s 3ms/step - loss: 0.1598 - accuracy: 0.9560 - val_loss: 1.8281 - val_accuracy: 0.5510\n",
            "Epoch 58/100\n",
            "118/118 [==============================] - 0s 3ms/step - loss: 0.1526 - accuracy: 0.9564 - val_loss: 1.7483 - val_accuracy: 0.5646\n",
            "Epoch 59/100\n",
            "118/118 [==============================] - 0s 3ms/step - loss: 0.1421 - accuracy: 0.9602 - val_loss: 1.7723 - val_accuracy: 0.5510\n",
            "Epoch 60/100\n",
            "118/118 [==============================] - 0s 2ms/step - loss: 0.1453 - accuracy: 0.9563 - val_loss: 1.8073 - val_accuracy: 0.5578\n",
            "Epoch 61/100\n",
            "118/118 [==============================] - 1s 6ms/step - loss: 0.1341 - accuracy: 0.9660 - val_loss: 1.7401 - val_accuracy: 0.5612\n",
            "Epoch 62/100\n",
            "118/118 [==============================] - 0s 2ms/step - loss: 0.1167 - accuracy: 0.9719 - val_loss: 1.6768 - val_accuracy: 0.5850\n",
            "Epoch 63/100\n",
            "118/118 [==============================] - 0s 3ms/step - loss: 0.1330 - accuracy: 0.9575 - val_loss: 1.7682 - val_accuracy: 0.5578\n",
            "Epoch 64/100\n",
            "118/118 [==============================] - 0s 2ms/step - loss: 0.1422 - accuracy: 0.9557 - val_loss: 1.7518 - val_accuracy: 0.5646\n",
            "Epoch 65/100\n",
            "118/118 [==============================] - 0s 2ms/step - loss: 0.1172 - accuracy: 0.9675 - val_loss: 1.8266 - val_accuracy: 0.5408\n",
            "Epoch 66/100\n",
            "118/118 [==============================] - 0s 3ms/step - loss: 0.1254 - accuracy: 0.9658 - val_loss: 1.8152 - val_accuracy: 0.5476\n",
            "Epoch 67/100\n",
            "118/118 [==============================] - 0s 3ms/step - loss: 0.1212 - accuracy: 0.9639 - val_loss: 1.8374 - val_accuracy: 0.5442\n",
            "Epoch 68/100\n",
            "118/118 [==============================] - 0s 3ms/step - loss: 0.1565 - accuracy: 0.9474 - val_loss: 1.9777 - val_accuracy: 0.5238\n",
            "Epoch 69/100\n",
            "118/118 [==============================] - 0s 3ms/step - loss: 0.1417 - accuracy: 0.9576 - val_loss: 1.8781 - val_accuracy: 0.5340\n",
            "Epoch 70/100\n",
            "118/118 [==============================] - 0s 2ms/step - loss: 0.1571 - accuracy: 0.9548 - val_loss: 1.8861 - val_accuracy: 0.5272\n",
            "Epoch 71/100\n",
            "118/118 [==============================] - 0s 2ms/step - loss: 0.1526 - accuracy: 0.9533 - val_loss: 1.7146 - val_accuracy: 0.5510\n",
            "Epoch 72/100\n",
            "118/118 [==============================] - 0s 2ms/step - loss: 0.1679 - accuracy: 0.9438 - val_loss: 1.8299 - val_accuracy: 0.5340\n",
            "Epoch 73/100\n",
            "118/118 [==============================] - 0s 3ms/step - loss: 0.1136 - accuracy: 0.9710 - val_loss: 1.8154 - val_accuracy: 0.5510\n",
            "Epoch 74/100\n",
            "118/118 [==============================] - 0s 3ms/step - loss: 0.1214 - accuracy: 0.9629 - val_loss: 1.8952 - val_accuracy: 0.5374\n",
            "Epoch 75/100\n",
            "118/118 [==============================] - 0s 3ms/step - loss: 0.0953 - accuracy: 0.9718 - val_loss: 1.8940 - val_accuracy: 0.5442\n",
            "Epoch 76/100\n",
            "118/118 [==============================] - 0s 3ms/step - loss: 0.0901 - accuracy: 0.9764 - val_loss: 1.9933 - val_accuracy: 0.5238\n",
            "Epoch 77/100\n",
            "118/118 [==============================] - 0s 2ms/step - loss: 0.1161 - accuracy: 0.9685 - val_loss: 2.0379 - val_accuracy: 0.5408\n",
            "Epoch 78/100\n",
            "118/118 [==============================] - 0s 2ms/step - loss: 0.1397 - accuracy: 0.9562 - val_loss: 2.1397 - val_accuracy: 0.5068\n",
            "Epoch 79/100\n",
            "118/118 [==============================] - 0s 3ms/step - loss: 0.1175 - accuracy: 0.9660 - val_loss: 2.2368 - val_accuracy: 0.5068\n",
            "Epoch 80/100\n",
            "118/118 [==============================] - 0s 3ms/step - loss: 0.0695 - accuracy: 0.9845 - val_loss: 2.2202 - val_accuracy: 0.5034\n",
            "Epoch 81/100\n",
            "118/118 [==============================] - 0s 3ms/step - loss: 0.1014 - accuracy: 0.9699 - val_loss: 2.1785 - val_accuracy: 0.5136\n",
            "Epoch 82/100\n",
            "118/118 [==============================] - 0s 3ms/step - loss: 0.1411 - accuracy: 0.9595 - val_loss: 2.1266 - val_accuracy: 0.5340\n",
            "Epoch 83/100\n",
            "118/118 [==============================] - 0s 3ms/step - loss: 0.1207 - accuracy: 0.9661 - val_loss: 2.1790 - val_accuracy: 0.5306\n",
            "Epoch 84/100\n",
            "118/118 [==============================] - 0s 3ms/step - loss: 0.0789 - accuracy: 0.9807 - val_loss: 2.2361 - val_accuracy: 0.5170\n",
            "Epoch 85/100\n",
            "118/118 [==============================] - 0s 3ms/step - loss: 0.1167 - accuracy: 0.9673 - val_loss: 2.2619 - val_accuracy: 0.5238\n",
            "Epoch 86/100\n",
            "118/118 [==============================] - 0s 3ms/step - loss: 0.1278 - accuracy: 0.9581 - val_loss: 2.2430 - val_accuracy: 0.5102\n",
            "Epoch 87/100\n",
            "118/118 [==============================] - 0s 3ms/step - loss: 0.1343 - accuracy: 0.9621 - val_loss: 2.2724 - val_accuracy: 0.4966\n",
            "Epoch 88/100\n",
            "118/118 [==============================] - 0s 3ms/step - loss: 0.1006 - accuracy: 0.9715 - val_loss: 2.2496 - val_accuracy: 0.4966\n",
            "Epoch 89/100\n",
            "118/118 [==============================] - 0s 3ms/step - loss: 0.1063 - accuracy: 0.9705 - val_loss: 2.3178 - val_accuracy: 0.5034\n",
            "Epoch 90/100\n",
            "118/118 [==============================] - 0s 3ms/step - loss: 0.1043 - accuracy: 0.9710 - val_loss: 2.3415 - val_accuracy: 0.5238\n",
            "Epoch 91/100\n",
            "118/118 [==============================] - 0s 3ms/step - loss: 0.1132 - accuracy: 0.9687 - val_loss: 2.4277 - val_accuracy: 0.5204\n",
            "Epoch 92/100\n",
            "118/118 [==============================] - 0s 3ms/step - loss: 0.1351 - accuracy: 0.9585 - val_loss: 2.3304 - val_accuracy: 0.5170\n",
            "Epoch 93/100\n",
            "118/118 [==============================] - 0s 3ms/step - loss: 0.1315 - accuracy: 0.9582 - val_loss: 2.1162 - val_accuracy: 0.5204\n",
            "Epoch 94/100\n",
            "118/118 [==============================] - 0s 3ms/step - loss: 0.1152 - accuracy: 0.9656 - val_loss: 2.0021 - val_accuracy: 0.5306\n",
            "Epoch 95/100\n",
            "118/118 [==============================] - 0s 3ms/step - loss: 0.1176 - accuracy: 0.9656 - val_loss: 2.2211 - val_accuracy: 0.5170\n",
            "Epoch 96/100\n",
            "118/118 [==============================] - 0s 3ms/step - loss: 0.1072 - accuracy: 0.9699 - val_loss: 2.1187 - val_accuracy: 0.5170\n",
            "Epoch 97/100\n",
            "118/118 [==============================] - 0s 3ms/step - loss: 0.1366 - accuracy: 0.9578 - val_loss: 2.0938 - val_accuracy: 0.5374\n",
            "Epoch 98/100\n",
            "118/118 [==============================] - 0s 3ms/step - loss: 0.0909 - accuracy: 0.9739 - val_loss: 2.1244 - val_accuracy: 0.5476\n",
            "Epoch 99/100\n",
            "118/118 [==============================] - 0s 3ms/step - loss: 0.1165 - accuracy: 0.9650 - val_loss: 2.3213 - val_accuracy: 0.5170\n",
            "Epoch 100/100\n",
            "118/118 [==============================] - 0s 3ms/step - loss: 0.1008 - accuracy: 0.9681 - val_loss: 2.3272 - val_accuracy: 0.5374\n"
          ],
          "name": "stdout"
        },
        {
          "output_type": "execute_result",
          "data": {
            "text/plain": [
              "<tensorflow.python.keras.callbacks.History at 0x7f4ee988ec50>"
            ]
          },
          "metadata": {
            "tags": []
          },
          "execution_count": 870
        }
      ]
    },
    {
      "cell_type": "markdown",
      "metadata": {
        "id": "cYMwdmWJKy9Y"
      },
      "source": [
        "- Ainsi nous voyons que l'accuracy du validation splot n'est jamais concluante, toujours aux alentoures de $0.5$. Après de multiples tentatives de changement d'architecture, l'accuracy restait vers $0.5$. Nous ne souhaitons donc pas utiliser l'ANN dans une stratégie de prédiction du signe des rendements.\n",
        "\n",
        "- On note que l'accuracy sur le train set augmente mais pas celle du validation set, significatif de l'Overfitting. Apres avoir essayé d'ajouter des couches DropOut, cela n'a pas été concluant non plus.\n",
        "\n",
        "- De plus, la méthode de construction de $P$ avec un seul Louvain ou un pour chaque ligne ($K$ éléments) nous donnait les mêmes résultats."
      ]
    },
    {
      "cell_type": "markdown",
      "metadata": {
        "id": "fcBH9LhkPRU6"
      },
      "source": [
        "## XGBoost"
      ]
    },
    {
      "cell_type": "code",
      "metadata": {
        "colab": {
          "base_uri": "https://localhost:8080/"
        },
        "id": "q_ByfeJqNTLc",
        "outputId": "558e324b-9412-4dd0-e942-cf6ba3f06c42"
      },
      "source": [
        "# Cross-validation (sklearn propose une instance de XGBoost pour cross-valider)\n",
        "import xgboost as xgb\n",
        "def xval_xgboost(xtrain):\n",
        "  xg_reg = xgb.XGBClassifier(objective ='binary:logistic', learning_rate = 0.3, max_depth = 6, n_estimators = 600, eta=0.1)\n",
        "  scores = cross_val_score(xg_reg, X, Y_train, cv=10)\n",
        "  print(scores.mean())\n",
        "\n",
        "xval_xgboost(X_train)"
      ],
      "execution_count": null,
      "outputs": [
        {
          "output_type": "stream",
          "text": [
            "0.48538346845587554\n"
          ],
          "name": "stdout"
        }
      ]
    },
    {
      "cell_type": "markdown",
      "metadata": {
        "id": "QUO0oovmtgwk"
      },
      "source": [
        "- Nous voyons que pour le modèle XGBoost, nous sommes confronté à la même absence de pouvoir predictif."
      ]
    },
    {
      "cell_type": "code",
      "metadata": {
        "id": "jzfQqpRsPXET"
      },
      "source": [
        "# # Modèle XGBoost \n",
        "# dtrain = xgb.DMatrix(data=X, label=Y_train)\n",
        "# dtest = xgb.DMatrix(to_predict)\n",
        "# param = {\n",
        "#     'max_depth': 6,  # maximum depth de chaque arbre\n",
        "#     'eta': 0.1,  # training step pour chaque iteration\n",
        "#     # 'silent': 0,  # Run sans print\n",
        "#     'objective': 'binary:logistic',  # Pour le multiclass\n",
        "#     'learning_rate': 0.1} \n",
        "# num_round = 600  # Nomre d'itérations (comme le nombre d'arbres d'un Random Forest)\n",
        "\n",
        "# bst = xgb.train(param, dtrain, num_round)"
      ],
      "execution_count": null,
      "outputs": []
    },
    {
      "cell_type": "code",
      "metadata": {
        "id": "TYA7XyoSPeFP"
      },
      "source": [
        "# # Prédiction\n",
        "# preds = bst.predict(dtest)\n",
        "\n",
        "# predict = np.asarray([np.argmax(line) for line in preds])"
      ],
      "execution_count": null,
      "outputs": []
    },
    {
      "cell_type": "code",
      "metadata": {
        "id": "78_3ST8cSwzF"
      },
      "source": [
        ""
      ],
      "execution_count": null,
      "outputs": []
    }
  ]
}